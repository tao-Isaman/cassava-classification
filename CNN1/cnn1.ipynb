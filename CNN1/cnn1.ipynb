{
  "nbformat": 4,
  "nbformat_minor": 0,
  "metadata": {
    "colab": {
      "name": "CNN_Python",
      "provenance": []
    },
    "kernelspec": {
      "name": "python3",
      "display_name": "Python 3"
    }
  },
  "cells": [
    {
      "cell_type": "code",
      "metadata": {
        "id": "OlINMgfM7uKm",
        "colab_type": "code",
        "colab": {}
      },
      "source": [
        "import numpy as np # linear algebra\n",
        "import pandas as pd # data processing, CSV file I/O (e.g. pd.read_csv)\n",
        "\n",
        "# Input data files are available in the \"../input/\" directory.\n",
        "# For example, running this (by clicking run or pressing Shift+Enter) will list the files in the input directory\n",
        "\n",
        "import os"
      ],
      "execution_count": 0,
      "outputs": []
    },
    {
      "cell_type": "code",
      "metadata": {
        "id": "TghSbjPp8YFt",
        "colab_type": "code",
        "outputId": "88b60f41-ab0f-4bfb-f7de-96a9a317ad65",
        "colab": {
          "base_uri": "https://localhost:8080/",
          "height": 34
        }
      },
      "source": [
        "import numpy as np # linear algebra\n",
        "import pandas as pd # data processing, CSV file I/O (e.g. pd.read_csv)\n",
        "\n",
        "# Input data files are available in the \"../input/\" directory.\n",
        "# For example, running this (by clicking run or pressing Shift+Enter) will list the files in the input directory\n",
        "\n",
        "import os\n",
        "\n",
        "from PIL import Image\n",
        "import numpy as np\n",
        "import pandas as pd\n",
        "import matplotlib.pyplot as plt\n",
        "import cv2\n",
        "from sklearn.model_selection import train_test_split, StratifiedShuffleSplit\n",
        "import tensorflow as tf\n",
        "from tensorflow.python.framework import ops\n",
        "import math\n",
        "import glob\n",
        "import imageio\n",
        "import pathlib\n",
        "import matplotlib.pyplot as plt\n",
        "from keras.preprocessing.image import ImageDataGenerator \n",
        "from keras.models import Sequential \n",
        "from keras.layers import Conv2D, MaxPooling2D \n",
        "from keras.layers import Activation, Dropout, Flatten, Dense \n",
        "from keras import backend as K \n",
        "\n",
        "from google.colab import drive\n",
        "drive.mount('/content/drive')"
      ],
      "execution_count": 0,
      "outputs": [
        {
          "output_type": "stream",
          "text": [
            "Using TensorFlow backend.\n"
          ],
          "name": "stderr"
        }
      ]
    },
    {
      "cell_type": "code",
      "metadata": {
        "id": "I5BkmGZYgh9I",
        "colab_type": "code",
        "colab": {}
      },
      "source": [
        ""
      ],
      "execution_count": 0,
      "outputs": []
    },
    {
      "cell_type": "code",
      "metadata": {
        "id": "LgKu56uYgkgv",
        "colab_type": "code",
        "outputId": "dc22351d-64d9-42c0-adc0-5e3acef03b76",
        "colab": {
          "base_uri": "https://localhost:8080/",
          "height": 121
        }
      },
      "source": [
        "from google.colab import drive\n",
        "drive.mount('/content/drive')"
      ],
      "execution_count": 0,
      "outputs": [
        {
          "output_type": "stream",
          "text": [
            "Go to this URL in a browser: https://accounts.google.com/o/oauth2/auth?client_id=947318989803-6bn6qk8qdgf4n4g3pfee6491hc0brc4i.apps.googleusercontent.com&redirect_uri=urn%3Aietf%3Awg%3Aoauth%3A2.0%3Aoob&scope=email%20https%3A%2F%2Fwww.googleapis.com%2Fauth%2Fdocs.test%20https%3A%2F%2Fwww.googleapis.com%2Fauth%2Fdrive%20https%3A%2F%2Fwww.googleapis.com%2Fauth%2Fdrive.photos.readonly%20https%3A%2F%2Fwww.googleapis.com%2Fauth%2Fpeopleapi.readonly&response_type=code\n",
            "\n",
            "Enter your authorization code:\n",
            "··········\n",
            "Mounted at /content/drive\n"
          ],
          "name": "stdout"
        }
      ]
    },
    {
      "cell_type": "code",
      "metadata": {
        "id": "lT902R8oKjtS",
        "colab_type": "code",
        "colab": {}
      },
      "source": [
        "train_data_dir = '/content/drive/My Drive/dataset/dataset_M01'\n",
        "test_data_dir = '/content/drive/My Drive/dataset/testdata'\n",
        "validation_data_dir = './dataset/'\n",
        "nb_train_samples =400 \n",
        "nb_validation_samples = 100\n",
        "epochs = 10\n",
        "batch_size = 16\n",
        "img_width, img_height = 500, 500"
      ],
      "execution_count": 0,
      "outputs": []
    },
    {
      "cell_type": "code",
      "metadata": {
        "id": "fKjR_f6MDLfA",
        "colab_type": "code",
        "colab": {}
      },
      "source": [
        ""
      ],
      "execution_count": 0,
      "outputs": []
    },
    {
      "cell_type": "code",
      "metadata": {
        "id": "fOtqpPB9DLiQ",
        "colab_type": "code",
        "colab": {}
      },
      "source": [
        ""
      ],
      "execution_count": 0,
      "outputs": []
    },
    {
      "cell_type": "code",
      "metadata": {
        "id": "YYPXnwZUDLk-",
        "colab_type": "code",
        "colab": {}
      },
      "source": [
        ""
      ],
      "execution_count": 0,
      "outputs": []
    },
    {
      "cell_type": "code",
      "metadata": {
        "id": "VZGkP5EYDLce",
        "colab_type": "code",
        "colab": {}
      },
      "source": [
        ""
      ],
      "execution_count": 0,
      "outputs": []
    },
    {
      "cell_type": "code",
      "metadata": {
        "id": "TbkztStaKjvf",
        "colab_type": "code",
        "outputId": "9de1ec38-9f05-4a92-8b6f-052668f28b32",
        "colab": {
          "base_uri": "https://localhost:8080/",
          "height": 286
        }
      },
      "source": [
        "  from imutils import paths\n",
        "#อิมพอร์ต paths จาก imutils\n",
        "image_paths = list(paths.list_images(train_data_dir))\n",
        "#อ่านรูปาภาพสัตว์ทั้งหมดจากโฟลเดอร์\n",
        "image = cv2.imread(image_paths[10])\n",
        "#ลองใช้ cv2 อ่านรูปขึ้นมาสักรูป\n",
        "image = cv2.imread(image_paths[10])\n",
        "#ลองใช้ cv2 อ่านรูปขึ้นมาสักรูป\n",
        "new_image = cv2.cvtColor(image, cv2.COLOR_BGR2RGB)\n",
        "#หลังจากอ่านมาเสร็จแล้ว เราต้องแปลงสีก่อนเพราะ cv2 นั้นเมื่ออ่านรูปเข้ามา จะมีค่าพื้นฐานของสีเป็น BGR ซึ่งสีที่เราใช้ๆกันอยู่อย่างคุ้นตาคือ RGB เพราะฉะนั้นเราต้องแปลงก่อน\n",
        "plt.figure()\n",
        "#เราใช้ pyplot ในการโชว์รูปขึ้นมา แต่ก่อนที่เราจะโชว์ขึ้นมาได้เราต้องสร้างตัว figure ขึ้นมาเสียก่อน เหมือนกับการสร้างหน้าต่างโปรแกรมขึ้นมาเพื่อที่จะให้เอารูปที่จะโชว์ไปแปะ\n",
        "plt.imshow(new_image)\n",
        "#ใช้ฟังก์ชั่น imshow ในการโชว์รูปออกมา"
      ],
      "execution_count": 0,
      "outputs": [
        {
          "output_type": "execute_result",
          "data": {
            "text/plain": [
              "<matplotlib.image.AxesImage at 0x7ff4b062d588>"
            ]
          },
          "metadata": {
            "tags": []
          },
          "execution_count": 5
        },
        {
          "output_type": "display_data",
          "data": {
            "image/png": "[encoded data removed]",
            "text/plain": [
              "<Figure size 432x288 with 1 Axes>"
            ]
          },
          "metadata": {
            "tags": []
          }
        }
      ]
    },
    {
      "cell_type": "code",
      "metadata": {
        "id": "1E4FSYRx3Rx-",
        "colab_type": "code",
        "colab": {}
      },
      "source": [
        "print(image_paths[10].split('/')[0])"
      ],
      "execution_count": 0,
      "outputs": []
    },
    {
      "cell_type": "code",
      "metadata": {
        "id": "ooDRZZdV8ZNc",
        "colab_type": "code",
        "colab": {}
      },
      "source": [
        "import random\n",
        "\n",
        "random.shuffle(image_paths)\n",
        "\n",
        "data = []\n",
        "labels = []\n",
        "\n",
        "for image_path in image_paths:\n",
        "    image = cv2.imread(image_path)\n",
        "    image = cv2.resize(image, (32, 32))\n",
        "    labels.append(image_path.split('/')[6])\n",
        "    data.append(image)"
      ],
      "execution_count": 0,
      "outputs": []
    },
    {
      "cell_type": "code",
      "metadata": {
        "id": "Q5tQIcUxo5hq",
        "colab_type": "code",
        "outputId": "6217c0e9-2b26-4c19-8c60-77ae824f2ce7",
        "colab": {
          "base_uri": "https://localhost:8080/",
          "height": 34
        }
      },
      "source": [
        "print(image_paths[10].split('-')[1])"
      ],
      "execution_count": 0,
      "outputs": [
        {
          "output_type": "stream",
          "text": [
            "cbsd\n"
          ],
          "name": "stdout"
        }
      ]
    },
    {
      "cell_type": "code",
      "metadata": {
        "id": "icupQ5wTBdJZ",
        "colab_type": "code",
        "colab": {}
      },
      "source": [
        "print(image_paths)\n",
        "print(data)\n",
        "print(labels)"
      ],
      "execution_count": 0,
      "outputs": []
    },
    {
      "cell_type": "code",
      "metadata": {
        "id": "zjYT4Tw8LU31",
        "colab_type": "code",
        "colab": {}
      },
      "source": [
        "from sklearn.preprocessing import LabelBinarizer\n",
        "data = np.array(data)\n",
        "lb = LabelBinarizer()\n",
        "data = data/255.0\n",
        "\n",
        "#labels = np.array(labels)\n",
        "#labels = lb.fit_transform(labels)\n",
        "print(labels)"
      ],
      "execution_count": 0,
      "outputs": []
    },
    {
      "cell_type": "code",
      "metadata": {
        "id": "FU0KyZImLU68",
        "colab_type": "code",
        "colab": {}
      },
      "source": [
        "for i in range(len(labels)) :\n",
        "    if(labels[i] == 'health_train'):\n",
        "        labels[i] = [1,0]\n",
        "    else:\n",
        "        labels[i] = [0,1]\n",
        "    print(labels[i])"
      ],
      "execution_count": 0,
      "outputs": []
    },
    {
      "cell_type": "code",
      "metadata": {
        "id": "erDDzbBuLU-F",
        "colab_type": "code",
        "colab": {}
      },
      "source": [
        "labels = np.array(labels)\n",
        "labels = lb.fit_transform(labels)\n",
        "print(labels)\n",
        "print(len(labels))\n",
        "data = np.array(data)\n",
        "labels = np.array(labels)\n",
        "X_train, X_test, y_train, y_test = train_test_split(data, labels, test_size=0.2)"
      ],
      "execution_count": 0,
      "outputs": []
    },
    {
      "cell_type": "code",
      "metadata": {
        "id": "g4h2KPOg1WA2",
        "colab_type": "code",
        "colab": {}
      },
      "source": [
        "data = np.array(data)\n",
        "labels = np.array(labels)\n",
        "X_train, X_test, y_train, y_test = train_test_split(data, labels, test_size=0.2)\n"
      ],
      "execution_count": 0,
      "outputs": []
    },
    {
      "cell_type": "code",
      "metadata": {
        "id": "OWn40nC8L-af",
        "colab_type": "code",
        "cellView": "both",
        "outputId": "42a610de-1721-4c29-bc2c-744a49e191b2",
        "colab": {
          "base_uri": "https://localhost:8080/",
          "height": 1000
        }
      },
      "source": [
        "\n",
        "from keras import backend\n",
        "from keras.models import Sequential\n",
        "from keras.layers.convolutional import Conv2D\n",
        "from keras.layers import Input, Dense, Activation, ZeroPadding2D, BatchNormalization, Flatten, Conv2D\n",
        "from keras.layers import AveragePooling2D, MaxPooling2D, Dropout, GlobalMaxPooling2D, GlobalAveragePooling2D\n",
        "from keras.layers.core import Dense, Flatten\n",
        "from keras import optimizers\n",
        "#อิมพอร์ตพวกของต่างๆที่จะต้องใช้จาก keras\n",
        "X_train, X_test, y_train, y_test = train_test_split(data, labels, test_size=0.2, random_state=5)\n",
        "\n",
        "#เรียกใช้ฟังก์ชั่น train_test_split เพื่อทำการสร้างข้อมูลเทรนกับเทส\n",
        "model_2 = Sequential()\n",
        "model_2.add(Conv2D(32, (3, 3), input_shape=(32, 32 ,3), activation='relu', padding='same'))\n",
        "model_2.add(Conv2D(64, (3, 3), activation='relu', padding='same'))\n",
        "model_2.add(Conv2D(64, (3, 3), activation='relu', padding='same'))\n",
        "model_2.add(MaxPooling2D(pool_size=(2,2)))\n",
        "model_2.add(Conv2D(64, (3, 3), activation='relu', padding='same'))\n",
        "model_2.add(Conv2D(64, (3, 3), activation='relu', padding='same'))\n",
        "model_2.add(MaxPooling2D(pool_size=(2,2)))\n",
        "model_2.add(Conv2D(32, (3, 3), activation='relu', padding='same'))\n",
        "model_2.add(Conv2D(32, (3, 3), activation='relu', padding='same'))\n",
        "model_2.add(Conv2D(32, (3, 3), padding='same'))\n",
        "model_2.add(Conv2D(32, (3, 3)))\n",
        "model_2.add(Dense(256, activation=\"relu\"))\n",
        "model_2.add(Flatten())\n",
        "model_2.add(Dense(2, activation='softmax'))\n",
        "optimizer = optimizers.adam(lr=0.00001)\n",
        "model_2.compile(loss='binary_crossentropy', optimizer=optimizer,metrics=[\"accuracy\"])\n",
        "model_2.summary()\n",
        "\n",
        "\n",
        "\n",
        "\n",
        "#M set 1\n",
        "#model_2.add(Conv2D(256, (3, 3), activation='relu', padding='same'))\n",
        "#model_2.add(Conv2D(256, (3, 3), activation='relu', padding='same'))\n",
        "#model_2.add(MaxPooling2D(pool_size=(2,2)))\n",
        "#model_2.add(Conv2D(128, (3, 3), activation='relu', padding='same'))\n",
        "#model_2.add(Conv2D(128, (3, 3), activation='relu', padding='same'))\n",
        "#model_2.add(MaxPooling2D(pool_size=(2,2)))\n",
        "#model_2.add(Conv2D(64, (3, 3), activation='relu', padding='same'))\n",
        "#model_2.add(Conv2D(64, (3, 3), activation='relu', padding='same'))\n",
        "#model_2.add(Conv2D(32, (3, 3), padding='same'))\n",
        "#model_2.add(Conv2D(32, (3, 3)))\n",
        "#model_2.add(Flatten())"
      ],
      "execution_count": 0,
      "outputs": [
        {
          "output_type": "stream",
          "text": [
            "WARNING:tensorflow:From /usr/local/lib/python3.6/dist-packages/keras/backend/tensorflow_backend.py:66: The name tf.get_default_graph is deprecated. Please use tf.compat.v1.get_default_graph instead.\n",
            "\n"
          ],
          "name": "stdout"
        },
        {
          "output_type": "stream",
          "text": [
            "WARNING:tensorflow:From /usr/local/lib/python3.6/dist-packages/keras/backend/tensorflow_backend.py:66: The name tf.get_default_graph is deprecated. Please use tf.compat.v1.get_default_graph instead.\n",
            "\n"
          ],
          "name": "stderr"
        },
        {
          "output_type": "stream",
          "text": [
            "WARNING:tensorflow:From /usr/local/lib/python3.6/dist-packages/keras/backend/tensorflow_backend.py:541: The name tf.placeholder is deprecated. Please use tf.compat.v1.placeholder instead.\n",
            "\n"
          ],
          "name": "stdout"
        },
        {
          "output_type": "stream",
          "text": [
            "WARNING:tensorflow:From /usr/local/lib/python3.6/dist-packages/keras/backend/tensorflow_backend.py:541: The name tf.placeholder is deprecated. Please use tf.compat.v1.placeholder instead.\n",
            "\n"
          ],
          "name": "stderr"
        },
        {
          "output_type": "stream",
          "text": [
            "WARNING:tensorflow:From /usr/local/lib/python3.6/dist-packages/keras/backend/tensorflow_backend.py:4432: The name tf.random_uniform is deprecated. Please use tf.random.uniform instead.\n",
            "\n"
          ],
          "name": "stdout"
        },
        {
          "output_type": "stream",
          "text": [
            "WARNING:tensorflow:From /usr/local/lib/python3.6/dist-packages/keras/backend/tensorflow_backend.py:4432: The name tf.random_uniform is deprecated. Please use tf.random.uniform instead.\n",
            "\n"
          ],
          "name": "stderr"
        },
        {
          "output_type": "stream",
          "text": [
            "WARNING:tensorflow:From /usr/local/lib/python3.6/dist-packages/keras/backend/tensorflow_backend.py:4267: The name tf.nn.max_pool is deprecated. Please use tf.nn.max_pool2d instead.\n",
            "\n"
          ],
          "name": "stdout"
        },
        {
          "output_type": "stream",
          "text": [
            "WARNING:tensorflow:From /usr/local/lib/python3.6/dist-packages/keras/backend/tensorflow_backend.py:4267: The name tf.nn.max_pool is deprecated. Please use tf.nn.max_pool2d instead.\n",
            "\n"
          ],
          "name": "stderr"
        },
        {
          "output_type": "stream",
          "text": [
            "WARNING:tensorflow:From /usr/local/lib/python3.6/dist-packages/keras/optimizers.py:793: The name tf.train.Optimizer is deprecated. Please use tf.compat.v1.train.Optimizer instead.\n",
            "\n"
          ],
          "name": "stdout"
        },
        {
          "output_type": "stream",
          "text": [
            "WARNING:tensorflow:From /usr/local/lib/python3.6/dist-packages/keras/optimizers.py:793: The name tf.train.Optimizer is deprecated. Please use tf.compat.v1.train.Optimizer instead.\n",
            "\n"
          ],
          "name": "stderr"
        },
        {
          "output_type": "stream",
          "text": [
            "WARNING:tensorflow:From /usr/local/lib/python3.6/dist-packages/keras/backend/tensorflow_backend.py:3657: The name tf.log is deprecated. Please use tf.math.log instead.\n",
            "\n"
          ],
          "name": "stdout"
        },
        {
          "output_type": "stream",
          "text": [
            "WARNING:tensorflow:From /usr/local/lib/python3.6/dist-packages/keras/backend/tensorflow_backend.py:3657: The name tf.log is deprecated. Please use tf.math.log instead.\n",
            "\n"
          ],
          "name": "stderr"
        },
        {
          "output_type": "stream",
          "text": [
            "WARNING:tensorflow:From /usr/local/lib/python3.6/dist-packages/tensorflow_core/python/ops/nn_impl.py:183: where (from tensorflow.python.ops.array_ops) is deprecated and will be removed in a future version.\n",
            "Instructions for updating:\n",
            "Use tf.where in 2.0, which has the same broadcast rule as np.where\n"
          ],
          "name": "stdout"
        },
        {
          "output_type": "stream",
          "text": [
            "WARNING:tensorflow:From /usr/local/lib/python3.6/dist-packages/tensorflow_core/python/ops/nn_impl.py:183: where (from tensorflow.python.ops.array_ops) is deprecated and will be removed in a future version.\n",
            "Instructions for updating:\n",
            "Use tf.where in 2.0, which has the same broadcast rule as np.where\n"
          ],
          "name": "stderr"
        },
        {
          "output_type": "stream",
          "text": [
            "Model: \"sequential_1\"\n",
            "_________________________________________________________________\n",
            "Layer (type)                 Output Shape              Param #   \n",
            "=================================================================\n",
            "conv2d_1 (Conv2D)            (None, 32, 32, 32)        896       \n",
            "_________________________________________________________________\n",
            "conv2d_2 (Conv2D)            (None, 32, 32, 64)        18496     \n",
            "_________________________________________________________________\n",
            "conv2d_3 (Conv2D)            (None, 32, 32, 64)        36928     \n",
            "_________________________________________________________________\n",
            "max_pooling2d_1 (MaxPooling2 (None, 16, 16, 64)        0         \n",
            "_________________________________________________________________\n",
            "conv2d_4 (Conv2D)            (None, 16, 16, 64)        36928     \n",
            "_________________________________________________________________\n",
            "conv2d_5 (Conv2D)            (None, 16, 16, 64)        36928     \n",
            "_________________________________________________________________\n",
            "max_pooling2d_2 (MaxPooling2 (None, 8, 8, 64)          0         \n",
            "_________________________________________________________________\n",
            "conv2d_6 (Conv2D)            (None, 8, 8, 32)          18464     \n",
            "_________________________________________________________________\n",
            "conv2d_7 (Conv2D)            (None, 8, 8, 32)          9248      \n",
            "_________________________________________________________________\n",
            "conv2d_8 (Conv2D)            (None, 8, 8, 32)          9248      \n",
            "_________________________________________________________________\n",
            "conv2d_9 (Conv2D)            (None, 6, 6, 32)          9248      \n",
            "_________________________________________________________________\n",
            "dense_1 (Dense)              (None, 6, 6, 256)         8448      \n",
            "_________________________________________________________________\n",
            "flatten_1 (Flatten)          (None, 9216)              0         \n",
            "_________________________________________________________________\n",
            "dense_2 (Dense)              (None, 2)                 18434     \n",
            "=================================================================\n",
            "Total params: 203,266\n",
            "Trainable params: 203,266\n",
            "Non-trainable params: 0\n",
            "_________________________________________________________________\n"
          ],
          "name": "stdout"
        }
      ]
    },
    {
      "cell_type": "code",
      "metadata": {
        "id": "2UsnxCuBL-dR",
        "colab_type": "code",
        "outputId": "e51c1c83-a4c7-40fb-8f9c-6d96316553f0",
        "colab": {
          "base_uri": "https://localhost:8080/",
          "height": 1000
        }
      },
      "source": [
        "mhis = model_2.fit(X_train, y_train, epochs=500, validation_split=0.2)"
      ],
      "execution_count": 0,
      "outputs": [
        {
          "output_type": "stream",
          "text": [
            "WARNING:tensorflow:From /usr/local/lib/python3.6/dist-packages/keras/backend/tensorflow_backend.py:1033: The name tf.assign_add is deprecated. Please use tf.compat.v1.assign_add instead.\n",
            "\n"
          ],
          "name": "stdout"
        },
        {
          "output_type": "stream",
          "text": [
            "WARNING:tensorflow:From /usr/local/lib/python3.6/dist-packages/keras/backend/tensorflow_backend.py:1033: The name tf.assign_add is deprecated. Please use tf.compat.v1.assign_add instead.\n",
            "\n"
          ],
          "name": "stderr"
        },
        {
          "output_type": "stream",
          "text": [
            "WARNING:tensorflow:From /usr/local/lib/python3.6/dist-packages/keras/backend/tensorflow_backend.py:1020: The name tf.assign is deprecated. Please use tf.compat.v1.assign instead.\n",
            "\n"
          ],
          "name": "stdout"
        },
        {
          "output_type": "stream",
          "text": [
            "WARNING:tensorflow:From /usr/local/lib/python3.6/dist-packages/keras/backend/tensorflow_backend.py:1020: The name tf.assign is deprecated. Please use tf.compat.v1.assign instead.\n",
            "\n"
          ],
          "name": "stderr"
        },
        {
          "output_type": "stream",
          "text": [
            "WARNING:tensorflow:From /usr/local/lib/python3.6/dist-packages/keras/backend/tensorflow_backend.py:3005: The name tf.Session is deprecated. Please use tf.compat.v1.Session instead.\n",
            "\n"
          ],
          "name": "stdout"
        },
        {
          "output_type": "stream",
          "text": [
            "WARNING:tensorflow:From /usr/local/lib/python3.6/dist-packages/keras/backend/tensorflow_backend.py:3005: The name tf.Session is deprecated. Please use tf.compat.v1.Session instead.\n",
            "\n"
          ],
          "name": "stderr"
        },
        {
          "output_type": "stream",
          "text": [
            "Train on 768 samples, validate on 193 samples\n",
            "Epoch 1/500\n",
            "WARNING:tensorflow:From /usr/local/lib/python3.6/dist-packages/keras/backend/tensorflow_backend.py:190: The name tf.get_default_session is deprecated. Please use tf.compat.v1.get_default_session instead.\n",
            "\n"
          ],
          "name": "stdout"
        },
        {
          "output_type": "stream",
          "text": [
            "WARNING:tensorflow:From /usr/local/lib/python3.6/dist-packages/keras/backend/tensorflow_backend.py:190: The name tf.get_default_session is deprecated. Please use tf.compat.v1.get_default_session instead.\n",
            "\n"
          ],
          "name": "stderr"
        },
        {
          "output_type": "stream",
          "text": [
            "WARNING:tensorflow:From /usr/local/lib/python3.6/dist-packages/keras/backend/tensorflow_backend.py:197: The name tf.ConfigProto is deprecated. Please use tf.compat.v1.ConfigProto instead.\n",
            "\n"
          ],
          "name": "stdout"
        },
        {
          "output_type": "stream",
          "text": [
            "WARNING:tensorflow:From /usr/local/lib/python3.6/dist-packages/keras/backend/tensorflow_backend.py:197: The name tf.ConfigProto is deprecated. Please use tf.compat.v1.ConfigProto instead.\n",
            "\n"
          ],
          "name": "stderr"
        },
        {
          "output_type": "stream",
          "text": [
            "WARNING:tensorflow:From /usr/local/lib/python3.6/dist-packages/keras/backend/tensorflow_backend.py:207: The name tf.global_variables is deprecated. Please use tf.compat.v1.global_variables instead.\n",
            "\n"
          ],
          "name": "stdout"
        },
        {
          "output_type": "stream",
          "text": [
            "WARNING:tensorflow:From /usr/local/lib/python3.6/dist-packages/keras/backend/tensorflow_backend.py:207: The name tf.global_variables is deprecated. Please use tf.compat.v1.global_variables instead.\n",
            "\n"
          ],
          "name": "stderr"
        },
        {
          "output_type": "stream",
          "text": [
            "WARNING:tensorflow:From /usr/local/lib/python3.6/dist-packages/keras/backend/tensorflow_backend.py:216: The name tf.is_variable_initialized is deprecated. Please use tf.compat.v1.is_variable_initialized instead.\n",
            "\n"
          ],
          "name": "stdout"
        },
        {
          "output_type": "stream",
          "text": [
            "WARNING:tensorflow:From /usr/local/lib/python3.6/dist-packages/keras/backend/tensorflow_backend.py:216: The name tf.is_variable_initialized is deprecated. Please use tf.compat.v1.is_variable_initialized instead.\n",
            "\n"
          ],
          "name": "stderr"
        },
        {
          "output_type": "stream",
          "text": [
            "WARNING:tensorflow:From /usr/local/lib/python3.6/dist-packages/keras/backend/tensorflow_backend.py:223: The name tf.variables_initializer is deprecated. Please use tf.compat.v1.variables_initializer instead.\n",
            "\n"
          ],
          "name": "stdout"
        },
        {
          "output_type": "stream",
          "text": [
            "WARNING:tensorflow:From /usr/local/lib/python3.6/dist-packages/keras/backend/tensorflow_backend.py:223: The name tf.variables_initializer is deprecated. Please use tf.compat.v1.variables_initializer instead.\n",
            "\n"
          ],
          "name": "stderr"
        },
        {
          "output_type": "stream",
          "text": [
            "768/768 [==============================] - 13s 17ms/step - loss: 0.6927 - acc: 0.5352 - val_loss: 0.6937 - val_acc: 0.4508\n",
            "Epoch 2/500\n",
            "768/768 [==============================] - 12s 15ms/step - loss: 0.6917 - acc: 0.5286 - val_loss: 0.6938 - val_acc: 0.4508\n",
            "Epoch 3/500\n",
            "768/768 [==============================] - 12s 15ms/step - loss: 0.6908 - acc: 0.5286 - val_loss: 0.6944 - val_acc: 0.4508\n",
            "Epoch 4/500\n",
            "768/768 [==============================] - 12s 15ms/step - loss: 0.6899 - acc: 0.5286 - val_loss: 0.6945 - val_acc: 0.4508\n",
            "Epoch 5/500\n",
            "768/768 [==============================] - 11s 15ms/step - loss: 0.6886 - acc: 0.5286 - val_loss: 0.6935 - val_acc: 0.4508\n",
            "Epoch 6/500\n",
            "768/768 [==============================] - 11s 15ms/step - loss: 0.6870 - acc: 0.5404 - val_loss: 0.6925 - val_acc: 0.4560\n",
            "Epoch 7/500\n",
            "768/768 [==============================] - 12s 15ms/step - loss: 0.6853 - acc: 0.5443 - val_loss: 0.6907 - val_acc: 0.4715\n",
            "Epoch 8/500\n",
            "768/768 [==============================] - 12s 15ms/step - loss: 0.6821 - acc: 0.5898 - val_loss: 0.6885 - val_acc: 0.5026\n",
            "Epoch 9/500\n",
            "768/768 [==============================] - 12s 16ms/step - loss: 0.6802 - acc: 0.5664 - val_loss: 0.6858 - val_acc: 0.5492\n",
            "Epoch 10/500\n",
            "768/768 [==============================] - 12s 15ms/step - loss: 0.6750 - acc: 0.6393 - val_loss: 0.6834 - val_acc: 0.5596\n",
            "Epoch 11/500\n",
            "768/768 [==============================] - 12s 15ms/step - loss: 0.6692 - acc: 0.6302 - val_loss: 0.6732 - val_acc: 0.6114\n",
            "Epoch 12/500\n",
            "768/768 [==============================] - 12s 15ms/step - loss: 0.6633 - acc: 0.6406 - val_loss: 0.6668 - val_acc: 0.6114\n",
            "Epoch 13/500\n",
            "768/768 [==============================] - 12s 15ms/step - loss: 0.6540 - acc: 0.6471 - val_loss: 0.6587 - val_acc: 0.6218\n",
            "Epoch 14/500\n",
            "768/768 [==============================] - 11s 15ms/step - loss: 0.6466 - acc: 0.6393 - val_loss: 0.6446 - val_acc: 0.6839\n",
            "Epoch 15/500\n",
            "768/768 [==============================] - 12s 15ms/step - loss: 0.6355 - acc: 0.6576 - val_loss: 0.6374 - val_acc: 0.6632\n",
            "Epoch 16/500\n",
            "768/768 [==============================] - 11s 15ms/step - loss: 0.6251 - acc: 0.6471 - val_loss: 0.6398 - val_acc: 0.6373\n",
            "Epoch 17/500\n",
            "768/768 [==============================] - 11s 15ms/step - loss: 0.6234 - acc: 0.6341 - val_loss: 0.6536 - val_acc: 0.6010\n",
            "Epoch 18/500\n",
            "768/768 [==============================] - 12s 15ms/step - loss: 0.6178 - acc: 0.6576 - val_loss: 0.6640 - val_acc: 0.6010\n",
            "Epoch 19/500\n",
            "768/768 [==============================] - 11s 15ms/step - loss: 0.6093 - acc: 0.6602 - val_loss: 0.6044 - val_acc: 0.7047\n",
            "Epoch 20/500\n",
            "768/768 [==============================] - 11s 15ms/step - loss: 0.6052 - acc: 0.6628 - val_loss: 0.5981 - val_acc: 0.6736\n",
            "Epoch 21/500\n",
            "768/768 [==============================] - 11s 15ms/step - loss: 0.6041 - acc: 0.6628 - val_loss: 0.5966 - val_acc: 0.7047\n",
            "Epoch 22/500\n",
            "768/768 [==============================] - 11s 15ms/step - loss: 0.6076 - acc: 0.6602 - val_loss: 0.5930 - val_acc: 0.7098\n",
            "Epoch 23/500\n",
            "768/768 [==============================] - 11s 15ms/step - loss: 0.6029 - acc: 0.6419 - val_loss: 0.6002 - val_acc: 0.6788\n",
            "Epoch 24/500\n",
            "768/768 [==============================] - 11s 15ms/step - loss: 0.5931 - acc: 0.6667 - val_loss: 0.6011 - val_acc: 0.6736\n",
            "Epoch 25/500\n",
            "768/768 [==============================] - 11s 15ms/step - loss: 0.5885 - acc: 0.6602 - val_loss: 0.5889 - val_acc: 0.6995\n",
            "Epoch 26/500\n",
            "768/768 [==============================] - 11s 15ms/step - loss: 0.5879 - acc: 0.6693 - val_loss: 0.6164 - val_acc: 0.6425\n",
            "Epoch 27/500\n",
            "768/768 [==============================] - 12s 15ms/step - loss: 0.5833 - acc: 0.6654 - val_loss: 0.5989 - val_acc: 0.6736\n",
            "Epoch 28/500\n",
            "768/768 [==============================] - 12s 15ms/step - loss: 0.5845 - acc: 0.6667 - val_loss: 0.6256 - val_acc: 0.6528\n",
            "Epoch 29/500\n",
            "768/768 [==============================] - 12s 15ms/step - loss: 0.5911 - acc: 0.6628 - val_loss: 0.5855 - val_acc: 0.6684\n",
            "Epoch 30/500\n",
            "768/768 [==============================] - 11s 15ms/step - loss: 0.5759 - acc: 0.6732 - val_loss: 0.5748 - val_acc: 0.6995\n",
            "Epoch 31/500\n",
            "768/768 [==============================] - 11s 15ms/step - loss: 0.5752 - acc: 0.6888 - val_loss: 0.5729 - val_acc: 0.6839\n",
            "Epoch 32/500\n",
            "768/768 [==============================] - 11s 15ms/step - loss: 0.5778 - acc: 0.6719 - val_loss: 0.5697 - val_acc: 0.7098\n",
            "Epoch 33/500\n",
            "768/768 [==============================] - 11s 15ms/step - loss: 0.5721 - acc: 0.6901 - val_loss: 0.6032 - val_acc: 0.6632\n",
            "Epoch 34/500\n",
            "768/768 [==============================] - 12s 15ms/step - loss: 0.5654 - acc: 0.6849 - val_loss: 0.5674 - val_acc: 0.6891\n",
            "Epoch 35/500\n",
            "768/768 [==============================] - 11s 15ms/step - loss: 0.5670 - acc: 0.6992 - val_loss: 0.5740 - val_acc: 0.6580\n",
            "Epoch 36/500\n",
            "768/768 [==============================] - 12s 15ms/step - loss: 0.5629 - acc: 0.6914 - val_loss: 0.5659 - val_acc: 0.6736\n",
            "Epoch 37/500\n",
            "768/768 [==============================] - 11s 15ms/step - loss: 0.5570 - acc: 0.6953 - val_loss: 0.5671 - val_acc: 0.6580\n",
            "Epoch 38/500\n",
            "768/768 [==============================] - 11s 15ms/step - loss: 0.5535 - acc: 0.7109 - val_loss: 0.6106 - val_acc: 0.6528\n",
            "Epoch 39/500\n",
            "768/768 [==============================] - 11s 15ms/step - loss: 0.5554 - acc: 0.7057 - val_loss: 0.5655 - val_acc: 0.6632\n",
            "Epoch 40/500\n",
            "768/768 [==============================] - 11s 15ms/step - loss: 0.5474 - acc: 0.6914 - val_loss: 0.5680 - val_acc: 0.6684\n",
            "Epoch 41/500\n",
            "768/768 [==============================] - 11s 15ms/step - loss: 0.5453 - acc: 0.7070 - val_loss: 0.5514 - val_acc: 0.7047\n",
            "Epoch 42/500\n",
            "768/768 [==============================] - 11s 15ms/step - loss: 0.5408 - acc: 0.7161 - val_loss: 0.5645 - val_acc: 0.6632\n",
            "Epoch 43/500\n",
            "768/768 [==============================] - 11s 15ms/step - loss: 0.5429 - acc: 0.7161 - val_loss: 0.5499 - val_acc: 0.6943\n",
            "Epoch 44/500\n",
            "768/768 [==============================] - 11s 15ms/step - loss: 0.5389 - acc: 0.7214 - val_loss: 0.5451 - val_acc: 0.6891\n",
            "Epoch 45/500\n",
            "768/768 [==============================] - 12s 15ms/step - loss: 0.5388 - acc: 0.7188 - val_loss: 0.5899 - val_acc: 0.6684\n",
            "Epoch 46/500\n",
            "768/768 [==============================] - 11s 15ms/step - loss: 0.5383 - acc: 0.7188 - val_loss: 0.5420 - val_acc: 0.6995\n",
            "Epoch 47/500\n",
            "768/768 [==============================] - 11s 15ms/step - loss: 0.5260 - acc: 0.7305 - val_loss: 0.5424 - val_acc: 0.6995\n",
            "Epoch 48/500\n",
            "768/768 [==============================] - 11s 15ms/step - loss: 0.5249 - acc: 0.7279 - val_loss: 0.5559 - val_acc: 0.6839\n",
            "Epoch 49/500\n",
            "768/768 [==============================] - 11s 15ms/step - loss: 0.5198 - acc: 0.7487 - val_loss: 0.5634 - val_acc: 0.6632\n",
            "Epoch 50/500\n",
            "768/768 [==============================] - 11s 15ms/step - loss: 0.5228 - acc: 0.7240 - val_loss: 0.5348 - val_acc: 0.7098\n",
            "Epoch 51/500\n",
            "768/768 [==============================] - 11s 15ms/step - loss: 0.5099 - acc: 0.7409 - val_loss: 0.5512 - val_acc: 0.6995\n",
            "Epoch 52/500\n",
            "768/768 [==============================] - 11s 15ms/step - loss: 0.5128 - acc: 0.7474 - val_loss: 0.5481 - val_acc: 0.6943\n",
            "Epoch 53/500\n",
            "768/768 [==============================] - 11s 15ms/step - loss: 0.5059 - acc: 0.7435 - val_loss: 0.5268 - val_acc: 0.7150\n",
            "Epoch 54/500\n",
            "768/768 [==============================] - 12s 15ms/step - loss: 0.5111 - acc: 0.7409 - val_loss: 0.5846 - val_acc: 0.6580\n",
            "Epoch 55/500\n",
            "768/768 [==============================] - 12s 15ms/step - loss: 0.5066 - acc: 0.7591 - val_loss: 0.5193 - val_acc: 0.7047\n",
            "Epoch 56/500\n",
            "768/768 [==============================] - 12s 15ms/step - loss: 0.4981 - acc: 0.7500 - val_loss: 0.5163 - val_acc: 0.7150\n",
            "Epoch 57/500\n",
            "768/768 [==============================] - 12s 15ms/step - loss: 0.5121 - acc: 0.7370 - val_loss: 0.5471 - val_acc: 0.6995\n",
            "Epoch 58/500\n",
            "768/768 [==============================] - 11s 15ms/step - loss: 0.4974 - acc: 0.7474 - val_loss: 0.5392 - val_acc: 0.7098\n",
            "Epoch 59/500\n",
            "768/768 [==============================] - 12s 15ms/step - loss: 0.4915 - acc: 0.7526 - val_loss: 0.5017 - val_acc: 0.7202\n",
            "Epoch 60/500\n",
            "768/768 [==============================] - 12s 15ms/step - loss: 0.4947 - acc: 0.7695 - val_loss: 0.5078 - val_acc: 0.7150\n",
            "Epoch 61/500\n",
            "768/768 [==============================] - 11s 15ms/step - loss: 0.4816 - acc: 0.7669 - val_loss: 0.5191 - val_acc: 0.7306\n",
            "Epoch 62/500\n",
            "768/768 [==============================] - 12s 15ms/step - loss: 0.4825 - acc: 0.7513 - val_loss: 0.4944 - val_acc: 0.7150\n",
            "Epoch 63/500\n",
            "768/768 [==============================] - 11s 15ms/step - loss: 0.4953 - acc: 0.7526 - val_loss: 0.5406 - val_acc: 0.7202\n",
            "Epoch 64/500\n",
            "768/768 [==============================] - 11s 15ms/step - loss: 0.4724 - acc: 0.7760 - val_loss: 0.5540 - val_acc: 0.6995\n",
            "Epoch 65/500\n",
            "768/768 [==============================] - 12s 15ms/step - loss: 0.4659 - acc: 0.7930 - val_loss: 0.4882 - val_acc: 0.7306\n",
            "Epoch 66/500\n",
            "768/768 [==============================] - 11s 15ms/step - loss: 0.4866 - acc: 0.7526 - val_loss: 0.4858 - val_acc: 0.7461\n",
            "Epoch 67/500\n",
            "768/768 [==============================] - 12s 15ms/step - loss: 0.4748 - acc: 0.7682 - val_loss: 0.5060 - val_acc: 0.7617\n",
            "Epoch 68/500\n",
            "768/768 [==============================] - 11s 15ms/step - loss: 0.4671 - acc: 0.7826 - val_loss: 0.4932 - val_acc: 0.7617\n",
            "Epoch 69/500\n",
            "768/768 [==============================] - 11s 15ms/step - loss: 0.4747 - acc: 0.7487 - val_loss: 0.4935 - val_acc: 0.7513\n",
            "Epoch 70/500\n",
            "768/768 [==============================] - 12s 15ms/step - loss: 0.4616 - acc: 0.7878 - val_loss: 0.5116 - val_acc: 0.7461\n",
            "Epoch 71/500\n",
            "768/768 [==============================] - 12s 15ms/step - loss: 0.4611 - acc: 0.7930 - val_loss: 0.4778 - val_acc: 0.7254\n",
            "Epoch 72/500\n",
            "768/768 [==============================] - 12s 15ms/step - loss: 0.4534 - acc: 0.7930 - val_loss: 0.4749 - val_acc: 0.7513\n",
            "Epoch 73/500\n",
            "768/768 [==============================] - 11s 15ms/step - loss: 0.4503 - acc: 0.7904 - val_loss: 0.4718 - val_acc: 0.7513\n",
            "Epoch 74/500\n",
            "768/768 [==============================] - 12s 15ms/step - loss: 0.4453 - acc: 0.7904 - val_loss: 0.4778 - val_acc: 0.7461\n",
            "Epoch 75/500\n",
            "768/768 [==============================] - 11s 15ms/step - loss: 0.4620 - acc: 0.7760 - val_loss: 0.5012 - val_acc: 0.7306\n",
            "Epoch 76/500\n",
            "768/768 [==============================] - 12s 15ms/step - loss: 0.4597 - acc: 0.7799 - val_loss: 0.5047 - val_acc: 0.7461\n",
            "Epoch 77/500\n",
            "768/768 [==============================] - 11s 15ms/step - loss: 0.4582 - acc: 0.7799 - val_loss: 0.5321 - val_acc: 0.7254\n",
            "Epoch 78/500\n",
            "768/768 [==============================] - 11s 15ms/step - loss: 0.4620 - acc: 0.7734 - val_loss: 0.4709 - val_acc: 0.7254\n",
            "Epoch 79/500\n",
            "768/768 [==============================] - 11s 15ms/step - loss: 0.4568 - acc: 0.7812 - val_loss: 0.4696 - val_acc: 0.7461\n",
            "Epoch 80/500\n",
            "768/768 [==============================] - 11s 15ms/step - loss: 0.4438 - acc: 0.7956 - val_loss: 0.4728 - val_acc: 0.7668\n",
            "Epoch 81/500\n",
            "768/768 [==============================] - 12s 15ms/step - loss: 0.4551 - acc: 0.7943 - val_loss: 0.5532 - val_acc: 0.7047\n",
            "Epoch 82/500\n",
            "768/768 [==============================] - 11s 15ms/step - loss: 0.4595 - acc: 0.7747 - val_loss: 0.4695 - val_acc: 0.7565\n",
            "Epoch 83/500\n",
            "768/768 [==============================] - 11s 15ms/step - loss: 0.4401 - acc: 0.7943 - val_loss: 0.4690 - val_acc: 0.7565\n",
            "Epoch 84/500\n",
            "768/768 [==============================] - 11s 15ms/step - loss: 0.4277 - acc: 0.8099 - val_loss: 0.4667 - val_acc: 0.7202\n",
            "Epoch 85/500\n",
            "768/768 [==============================] - 11s 15ms/step - loss: 0.4370 - acc: 0.7982 - val_loss: 0.4626 - val_acc: 0.7461\n",
            "Epoch 86/500\n",
            "768/768 [==============================] - 12s 15ms/step - loss: 0.4228 - acc: 0.8060 - val_loss: 0.4805 - val_acc: 0.7772\n",
            "Epoch 87/500\n",
            "768/768 [==============================] - 11s 15ms/step - loss: 0.4254 - acc: 0.8021 - val_loss: 0.4590 - val_acc: 0.7617\n",
            "Epoch 88/500\n",
            "768/768 [==============================] - 12s 15ms/step - loss: 0.4203 - acc: 0.8060 - val_loss: 0.4826 - val_acc: 0.7772\n",
            "Epoch 89/500\n",
            "768/768 [==============================] - 12s 15ms/step - loss: 0.4266 - acc: 0.8008 - val_loss: 0.4803 - val_acc: 0.7098\n",
            "Epoch 90/500\n",
            "768/768 [==============================] - 12s 15ms/step - loss: 0.4217 - acc: 0.8151 - val_loss: 0.4638 - val_acc: 0.7824\n",
            "Epoch 91/500\n",
            "768/768 [==============================] - 11s 15ms/step - loss: 0.4138 - acc: 0.8164 - val_loss: 0.4632 - val_acc: 0.7824\n",
            "Epoch 92/500\n",
            "768/768 [==============================] - 12s 15ms/step - loss: 0.4201 - acc: 0.8112 - val_loss: 0.4888 - val_acc: 0.7772\n",
            "Epoch 93/500\n",
            "768/768 [==============================] - 11s 15ms/step - loss: 0.4148 - acc: 0.8008 - val_loss: 0.4539 - val_acc: 0.7617\n",
            "Epoch 94/500\n",
            "768/768 [==============================] - 12s 15ms/step - loss: 0.4159 - acc: 0.8047 - val_loss: 0.4712 - val_acc: 0.7772\n",
            "Epoch 95/500\n",
            "768/768 [==============================] - 12s 15ms/step - loss: 0.4122 - acc: 0.8151 - val_loss: 0.4853 - val_acc: 0.7150\n",
            "Epoch 96/500\n",
            "768/768 [==============================] - 11s 15ms/step - loss: 0.4344 - acc: 0.8021 - val_loss: 0.4535 - val_acc: 0.7772\n",
            "Epoch 97/500\n",
            "768/768 [==============================] - 12s 15ms/step - loss: 0.4147 - acc: 0.7995 - val_loss: 0.4744 - val_acc: 0.7772\n",
            "Epoch 98/500\n",
            "768/768 [==============================] - 12s 15ms/step - loss: 0.4071 - acc: 0.8138 - val_loss: 0.4731 - val_acc: 0.7772\n",
            "Epoch 99/500\n",
            "768/768 [==============================] - 11s 15ms/step - loss: 0.4120 - acc: 0.8125 - val_loss: 0.4509 - val_acc: 0.7617\n",
            "Epoch 100/500\n",
            "768/768 [==============================] - 12s 15ms/step - loss: 0.4158 - acc: 0.8047 - val_loss: 0.4709 - val_acc: 0.7150\n",
            "Epoch 101/500\n",
            "768/768 [==============================] - 12s 15ms/step - loss: 0.4260 - acc: 0.8021 - val_loss: 0.4500 - val_acc: 0.7565\n",
            "Epoch 102/500\n",
            "768/768 [==============================] - 11s 15ms/step - loss: 0.4275 - acc: 0.8021 - val_loss: 0.4583 - val_acc: 0.7720\n",
            "Epoch 103/500\n",
            "768/768 [==============================] - 11s 15ms/step - loss: 0.3957 - acc: 0.8255 - val_loss: 0.4612 - val_acc: 0.7772\n",
            "Epoch 104/500\n",
            "768/768 [==============================] - 12s 15ms/step - loss: 0.3915 - acc: 0.8216 - val_loss: 0.4473 - val_acc: 0.7668\n",
            "Epoch 105/500\n",
            "768/768 [==============================] - 11s 15ms/step - loss: 0.3970 - acc: 0.8216 - val_loss: 0.4488 - val_acc: 0.7358\n",
            "Epoch 106/500\n",
            "768/768 [==============================] - 11s 15ms/step - loss: 0.3943 - acc: 0.8203 - val_loss: 0.5312 - val_acc: 0.7409\n",
            "Epoch 107/500\n",
            "768/768 [==============================] - 11s 15ms/step - loss: 0.4068 - acc: 0.8190 - val_loss: 0.4575 - val_acc: 0.7772\n",
            "Epoch 108/500\n",
            "768/768 [==============================] - 12s 15ms/step - loss: 0.3912 - acc: 0.8086 - val_loss: 0.4469 - val_acc: 0.7668\n",
            "Epoch 109/500\n",
            "768/768 [==============================] - 11s 15ms/step - loss: 0.3973 - acc: 0.8229 - val_loss: 0.4441 - val_acc: 0.7720\n",
            "Epoch 110/500\n",
            "768/768 [==============================] - 11s 15ms/step - loss: 0.3829 - acc: 0.8281 - val_loss: 0.4439 - val_acc: 0.7720\n",
            "Epoch 111/500\n",
            "768/768 [==============================] - 11s 15ms/step - loss: 0.4031 - acc: 0.8190 - val_loss: 0.4487 - val_acc: 0.7617\n",
            "Epoch 112/500\n",
            "768/768 [==============================] - 11s 15ms/step - loss: 0.4204 - acc: 0.8021 - val_loss: 0.5423 - val_acc: 0.7358\n",
            "Epoch 113/500\n",
            "768/768 [==============================] - 12s 15ms/step - loss: 0.3942 - acc: 0.8229 - val_loss: 0.4442 - val_acc: 0.7772\n",
            "Epoch 114/500\n",
            "768/768 [==============================] - 11s 15ms/step - loss: 0.3908 - acc: 0.8242 - val_loss: 0.4422 - val_acc: 0.7668\n",
            "Epoch 115/500\n",
            "768/768 [==============================] - 11s 15ms/step - loss: 0.3836 - acc: 0.8359 - val_loss: 0.4619 - val_acc: 0.7202\n",
            "Epoch 116/500\n",
            "768/768 [==============================] - 12s 15ms/step - loss: 0.3932 - acc: 0.8216 - val_loss: 0.4686 - val_acc: 0.7824\n",
            "Epoch 117/500\n",
            "768/768 [==============================] - 12s 15ms/step - loss: 0.3796 - acc: 0.8346 - val_loss: 0.4463 - val_acc: 0.7617\n",
            "Epoch 118/500\n",
            "768/768 [==============================] - 11s 15ms/step - loss: 0.3793 - acc: 0.8359 - val_loss: 0.5220 - val_acc: 0.7513\n",
            "Epoch 119/500\n",
            "768/768 [==============================] - 11s 15ms/step - loss: 0.3857 - acc: 0.8281 - val_loss: 0.4750 - val_acc: 0.7720\n",
            "Epoch 120/500\n",
            "768/768 [==============================] - 12s 15ms/step - loss: 0.3877 - acc: 0.8307 - val_loss: 0.5038 - val_acc: 0.7668\n",
            "Epoch 121/500\n",
            "768/768 [==============================] - 11s 15ms/step - loss: 0.4075 - acc: 0.8060 - val_loss: 0.5216 - val_acc: 0.7565\n",
            "Epoch 122/500\n",
            "768/768 [==============================] - 11s 15ms/step - loss: 0.4076 - acc: 0.8125 - val_loss: 0.4542 - val_acc: 0.7668\n",
            "Epoch 123/500\n",
            "768/768 [==============================] - 12s 15ms/step - loss: 0.3868 - acc: 0.8294 - val_loss: 0.4539 - val_acc: 0.7668\n",
            "Epoch 124/500\n",
            "768/768 [==============================] - 12s 15ms/step - loss: 0.3912 - acc: 0.8320 - val_loss: 0.4818 - val_acc: 0.7720\n",
            "Epoch 125/500\n",
            "768/768 [==============================] - 11s 15ms/step - loss: 0.3834 - acc: 0.8320 - val_loss: 0.4383 - val_acc: 0.7720\n",
            "Epoch 126/500\n",
            "768/768 [==============================] - 11s 15ms/step - loss: 0.3662 - acc: 0.8503 - val_loss: 0.4475 - val_acc: 0.7668\n",
            "Epoch 127/500\n",
            "768/768 [==============================] - 11s 15ms/step - loss: 0.3663 - acc: 0.8294 - val_loss: 0.4448 - val_acc: 0.7720\n",
            "Epoch 128/500\n",
            "768/768 [==============================] - 11s 15ms/step - loss: 0.3727 - acc: 0.8451 - val_loss: 0.4443 - val_acc: 0.7409\n",
            "Epoch 129/500\n",
            "768/768 [==============================] - 11s 15ms/step - loss: 0.3636 - acc: 0.8477 - val_loss: 0.4462 - val_acc: 0.7461\n",
            "Epoch 130/500\n",
            "768/768 [==============================] - 12s 15ms/step - loss: 0.3696 - acc: 0.8320 - val_loss: 0.4384 - val_acc: 0.7668\n",
            "Epoch 131/500\n",
            "768/768 [==============================] - 11s 15ms/step - loss: 0.3622 - acc: 0.8464 - val_loss: 0.4804 - val_acc: 0.7668\n",
            "Epoch 132/500\n",
            "768/768 [==============================] - 11s 15ms/step - loss: 0.3694 - acc: 0.8307 - val_loss: 0.4456 - val_acc: 0.7720\n",
            "Epoch 133/500\n",
            "768/768 [==============================] - 11s 15ms/step - loss: 0.3702 - acc: 0.8307 - val_loss: 0.4414 - val_acc: 0.7565\n",
            "Epoch 134/500\n",
            "768/768 [==============================] - 11s 15ms/step - loss: 0.3793 - acc: 0.8268 - val_loss: 0.4351 - val_acc: 0.7720\n",
            "Epoch 135/500\n",
            "768/768 [==============================] - 12s 15ms/step - loss: 0.3522 - acc: 0.8490 - val_loss: 0.5151 - val_acc: 0.7617\n",
            "Epoch 136/500\n",
            "768/768 [==============================] - 12s 15ms/step - loss: 0.3574 - acc: 0.8398 - val_loss: 0.4645 - val_acc: 0.7202\n",
            "Epoch 137/500\n",
            "768/768 [==============================] - 11s 15ms/step - loss: 0.3649 - acc: 0.8451 - val_loss: 0.4354 - val_acc: 0.7720\n",
            "Epoch 138/500\n",
            "768/768 [==============================] - 12s 15ms/step - loss: 0.3577 - acc: 0.8424 - val_loss: 0.4516 - val_acc: 0.7668\n",
            "Epoch 139/500\n",
            "768/768 [==============================] - 11s 15ms/step - loss: 0.3570 - acc: 0.8320 - val_loss: 0.5166 - val_acc: 0.7565\n",
            "Epoch 140/500\n",
            "768/768 [==============================] - 11s 15ms/step - loss: 0.3595 - acc: 0.8451 - val_loss: 0.4398 - val_acc: 0.7668\n",
            "Epoch 141/500\n",
            "768/768 [==============================] - 11s 15ms/step - loss: 0.3708 - acc: 0.8268 - val_loss: 0.5753 - val_acc: 0.7409\n",
            "Epoch 142/500\n",
            "768/768 [==============================] - 12s 15ms/step - loss: 0.3743 - acc: 0.8333 - val_loss: 0.4347 - val_acc: 0.7668\n",
            "Epoch 143/500\n",
            "768/768 [==============================] - 12s 15ms/step - loss: 0.3486 - acc: 0.8477 - val_loss: 0.4334 - val_acc: 0.7772\n",
            "Epoch 144/500\n",
            "768/768 [==============================] - 11s 15ms/step - loss: 0.3533 - acc: 0.8542 - val_loss: 0.4392 - val_acc: 0.7513\n",
            "Epoch 145/500\n",
            "768/768 [==============================] - 12s 15ms/step - loss: 0.3546 - acc: 0.8464 - val_loss: 0.4323 - val_acc: 0.7720\n",
            "Epoch 146/500\n",
            "768/768 [==============================] - 12s 15ms/step - loss: 0.3421 - acc: 0.8529 - val_loss: 0.4317 - val_acc: 0.7772\n",
            "Epoch 147/500\n",
            "768/768 [==============================] - 11s 15ms/step - loss: 0.3513 - acc: 0.8490 - val_loss: 0.4377 - val_acc: 0.7668\n",
            "Epoch 148/500\n",
            "768/768 [==============================] - 12s 15ms/step - loss: 0.3356 - acc: 0.8529 - val_loss: 0.4363 - val_acc: 0.7720\n",
            "Epoch 149/500\n",
            "768/768 [==============================] - 12s 15ms/step - loss: 0.3512 - acc: 0.8424 - val_loss: 0.4602 - val_acc: 0.8031\n",
            "Epoch 150/500\n",
            "768/768 [==============================] - 12s 15ms/step - loss: 0.3363 - acc: 0.8555 - val_loss: 0.4585 - val_acc: 0.8031\n",
            "Epoch 151/500\n",
            "768/768 [==============================] - 12s 15ms/step - loss: 0.3391 - acc: 0.8464 - val_loss: 0.4451 - val_acc: 0.7824\n",
            "Epoch 152/500\n",
            "768/768 [==============================] - 11s 15ms/step - loss: 0.3385 - acc: 0.8503 - val_loss: 0.4379 - val_acc: 0.7772\n",
            "Epoch 153/500\n",
            "768/768 [==============================] - 12s 15ms/step - loss: 0.3386 - acc: 0.8542 - val_loss: 0.4428 - val_acc: 0.7720\n",
            "Epoch 154/500\n",
            "768/768 [==============================] - 12s 15ms/step - loss: 0.3292 - acc: 0.8555 - val_loss: 0.4285 - val_acc: 0.7772\n",
            "Epoch 155/500\n",
            "768/768 [==============================] - 12s 15ms/step - loss: 0.3431 - acc: 0.8529 - val_loss: 0.4579 - val_acc: 0.7150\n",
            "Epoch 156/500\n",
            "768/768 [==============================] - 12s 15ms/step - loss: 0.3307 - acc: 0.8685 - val_loss: 0.4330 - val_acc: 0.7565\n",
            "Epoch 157/500\n",
            "768/768 [==============================] - 12s 15ms/step - loss: 0.3320 - acc: 0.8529 - val_loss: 0.4295 - val_acc: 0.7668\n",
            "Epoch 158/500\n",
            "768/768 [==============================] - 11s 15ms/step - loss: 0.3432 - acc: 0.8542 - val_loss: 0.4310 - val_acc: 0.7720\n",
            "Epoch 159/500\n",
            "768/768 [==============================] - 11s 15ms/step - loss: 0.3359 - acc: 0.8685 - val_loss: 0.4300 - val_acc: 0.7772\n",
            "Epoch 160/500\n",
            "768/768 [==============================] - 12s 15ms/step - loss: 0.3501 - acc: 0.8438 - val_loss: 0.4732 - val_acc: 0.7824\n",
            "Epoch 161/500\n",
            "768/768 [==============================] - 12s 15ms/step - loss: 0.3229 - acc: 0.8737 - val_loss: 0.4620 - val_acc: 0.8031\n",
            "Epoch 162/500\n",
            "768/768 [==============================] - 12s 15ms/step - loss: 0.3253 - acc: 0.8607 - val_loss: 0.4302 - val_acc: 0.7720\n",
            "Epoch 163/500\n",
            "768/768 [==============================] - 11s 15ms/step - loss: 0.3285 - acc: 0.8568 - val_loss: 0.4307 - val_acc: 0.7668\n",
            "Epoch 164/500\n",
            "768/768 [==============================] - 12s 15ms/step - loss: 0.3291 - acc: 0.8542 - val_loss: 0.4293 - val_acc: 0.7720\n",
            "Epoch 165/500\n",
            "768/768 [==============================] - 11s 15ms/step - loss: 0.3272 - acc: 0.8503 - val_loss: 0.4291 - val_acc: 0.7668\n",
            "Epoch 166/500\n",
            "768/768 [==============================] - 12s 15ms/step - loss: 0.3422 - acc: 0.8490 - val_loss: 0.4585 - val_acc: 0.7979\n",
            "Epoch 167/500\n",
            "768/768 [==============================] - 12s 15ms/step - loss: 0.3327 - acc: 0.8542 - val_loss: 0.4571 - val_acc: 0.8031\n",
            "Epoch 168/500\n",
            "768/768 [==============================] - 12s 15ms/step - loss: 0.3861 - acc: 0.8060 - val_loss: 0.4618 - val_acc: 0.8031\n",
            "Epoch 169/500\n",
            "768/768 [==============================] - 12s 15ms/step - loss: 0.3275 - acc: 0.8607 - val_loss: 0.4343 - val_acc: 0.7824\n",
            "Epoch 170/500\n",
            "768/768 [==============================] - 11s 15ms/step - loss: 0.3264 - acc: 0.8581 - val_loss: 0.4857 - val_acc: 0.7202\n",
            "Epoch 171/500\n",
            "768/768 [==============================] - 12s 15ms/step - loss: 0.3391 - acc: 0.8620 - val_loss: 0.4372 - val_acc: 0.7513\n",
            "Epoch 172/500\n",
            "768/768 [==============================] - 12s 15ms/step - loss: 0.3258 - acc: 0.8555 - val_loss: 0.5065 - val_acc: 0.7720\n",
            "Epoch 173/500\n",
            "768/768 [==============================] - 12s 15ms/step - loss: 0.3198 - acc: 0.8568 - val_loss: 0.4367 - val_acc: 0.7927\n",
            "Epoch 174/500\n",
            "768/768 [==============================] - 12s 15ms/step - loss: 0.3075 - acc: 0.8685 - val_loss: 0.4407 - val_acc: 0.7927\n",
            "Epoch 175/500\n",
            "768/768 [==============================] - 12s 15ms/step - loss: 0.3040 - acc: 0.8698 - val_loss: 0.4459 - val_acc: 0.7876\n",
            "Epoch 176/500\n",
            "768/768 [==============================] - 12s 15ms/step - loss: 0.3122 - acc: 0.8672 - val_loss: 0.4658 - val_acc: 0.7876\n",
            "Epoch 177/500\n",
            "768/768 [==============================] - 11s 15ms/step - loss: 0.3113 - acc: 0.8646 - val_loss: 0.4409 - val_acc: 0.7927\n",
            "Epoch 178/500\n",
            "768/768 [==============================] - 12s 15ms/step - loss: 0.3062 - acc: 0.8737 - val_loss: 0.4585 - val_acc: 0.7979\n",
            "Epoch 179/500\n",
            "768/768 [==============================] - 11s 15ms/step - loss: 0.3178 - acc: 0.8659 - val_loss: 0.4334 - val_acc: 0.7927\n",
            "Epoch 180/500\n",
            "768/768 [==============================] - 12s 15ms/step - loss: 0.3090 - acc: 0.8659 - val_loss: 0.4365 - val_acc: 0.7876\n",
            "Epoch 181/500\n",
            "768/768 [==============================] - 11s 15ms/step - loss: 0.3269 - acc: 0.8555 - val_loss: 0.4430 - val_acc: 0.7927\n",
            "Epoch 182/500\n",
            "768/768 [==============================] - 12s 15ms/step - loss: 0.3005 - acc: 0.8789 - val_loss: 0.4549 - val_acc: 0.7979\n",
            "Epoch 183/500\n",
            "768/768 [==============================] - 11s 15ms/step - loss: 0.3216 - acc: 0.8581 - val_loss: 0.4283 - val_acc: 0.7772\n",
            "Epoch 184/500\n",
            "768/768 [==============================] - 12s 15ms/step - loss: 0.3470 - acc: 0.8451 - val_loss: 0.4490 - val_acc: 0.7979\n",
            "Epoch 185/500\n",
            "768/768 [==============================] - 12s 15ms/step - loss: 0.2996 - acc: 0.8737 - val_loss: 0.4429 - val_acc: 0.7358\n",
            "Epoch 186/500\n",
            "768/768 [==============================] - 11s 15ms/step - loss: 0.3060 - acc: 0.8633 - val_loss: 0.4772 - val_acc: 0.7202\n",
            "Epoch 187/500\n",
            "768/768 [==============================] - 12s 15ms/step - loss: 0.3229 - acc: 0.8477 - val_loss: 0.4417 - val_acc: 0.7409\n",
            "Epoch 188/500\n",
            "768/768 [==============================] - 12s 15ms/step - loss: 0.3010 - acc: 0.8724 - val_loss: 0.4351 - val_acc: 0.7876\n",
            "Epoch 189/500\n",
            "768/768 [==============================] - 12s 15ms/step - loss: 0.3010 - acc: 0.8711 - val_loss: 0.4320 - val_acc: 0.7668\n",
            "Epoch 190/500\n",
            "768/768 [==============================] - 12s 15ms/step - loss: 0.3092 - acc: 0.8724 - val_loss: 0.4458 - val_acc: 0.7876\n",
            "Epoch 191/500\n",
            "768/768 [==============================] - 12s 15ms/step - loss: 0.3026 - acc: 0.8698 - val_loss: 0.4540 - val_acc: 0.7979\n",
            "Epoch 192/500\n",
            "768/768 [==============================] - 12s 15ms/step - loss: 0.2852 - acc: 0.8815 - val_loss: 0.4418 - val_acc: 0.7824\n",
            "Epoch 193/500\n",
            "768/768 [==============================] - 12s 15ms/step - loss: 0.3150 - acc: 0.8724 - val_loss: 0.4451 - val_acc: 0.7824\n",
            "Epoch 194/500\n",
            "768/768 [==============================] - 12s 15ms/step - loss: 0.2950 - acc: 0.8828 - val_loss: 0.4280 - val_acc: 0.7720\n",
            "Epoch 195/500\n",
            "768/768 [==============================] - 12s 15ms/step - loss: 0.2890 - acc: 0.8750 - val_loss: 0.5007 - val_acc: 0.7772\n",
            "Epoch 196/500\n",
            "768/768 [==============================] - 12s 15ms/step - loss: 0.2871 - acc: 0.8737 - val_loss: 0.4409 - val_acc: 0.7927\n",
            "Epoch 197/500\n",
            "768/768 [==============================] - 12s 15ms/step - loss: 0.2985 - acc: 0.8685 - val_loss: 0.4736 - val_acc: 0.7927\n",
            "Epoch 198/500\n",
            "768/768 [==============================] - 12s 15ms/step - loss: 0.2813 - acc: 0.8880 - val_loss: 0.4564 - val_acc: 0.7306\n",
            "Epoch 199/500\n",
            "768/768 [==============================] - 12s 15ms/step - loss: 0.3055 - acc: 0.8698 - val_loss: 0.4366 - val_acc: 0.7876\n",
            "Epoch 200/500\n",
            "768/768 [==============================] - 12s 15ms/step - loss: 0.2880 - acc: 0.8789 - val_loss: 0.4292 - val_acc: 0.7824\n",
            "Epoch 201/500\n",
            "768/768 [==============================] - 12s 15ms/step - loss: 0.2763 - acc: 0.8958 - val_loss: 0.4456 - val_acc: 0.7720\n",
            "Epoch 202/500\n",
            "768/768 [==============================] - 11s 15ms/step - loss: 0.2868 - acc: 0.8815 - val_loss: 0.4302 - val_acc: 0.7668\n",
            "Epoch 203/500\n",
            "768/768 [==============================] - 12s 15ms/step - loss: 0.2848 - acc: 0.8867 - val_loss: 0.4385 - val_acc: 0.7461\n",
            "Epoch 204/500\n",
            "768/768 [==============================] - 12s 15ms/step - loss: 0.2927 - acc: 0.8750 - val_loss: 0.4364 - val_acc: 0.7668\n",
            "Epoch 205/500\n",
            "768/768 [==============================] - 12s 15ms/step - loss: 0.2977 - acc: 0.8711 - val_loss: 0.4349 - val_acc: 0.7668\n",
            "Epoch 206/500\n",
            "768/768 [==============================] - 11s 15ms/step - loss: 0.2811 - acc: 0.8763 - val_loss: 0.4596 - val_acc: 0.7927\n",
            "Epoch 207/500\n",
            "768/768 [==============================] - 12s 15ms/step - loss: 0.2889 - acc: 0.8815 - val_loss: 0.5542 - val_acc: 0.7668\n",
            "Epoch 208/500\n",
            "768/768 [==============================] - 12s 15ms/step - loss: 0.2790 - acc: 0.8880 - val_loss: 0.5742 - val_acc: 0.7720\n",
            "Epoch 209/500\n",
            "768/768 [==============================] - 11s 15ms/step - loss: 0.2836 - acc: 0.8815 - val_loss: 0.4954 - val_acc: 0.7824\n",
            "Epoch 210/500\n",
            "768/768 [==============================] - 12s 15ms/step - loss: 0.2834 - acc: 0.8763 - val_loss: 0.4722 - val_acc: 0.7927\n",
            "Epoch 211/500\n",
            "768/768 [==============================] - 11s 15ms/step - loss: 0.2695 - acc: 0.8880 - val_loss: 0.4312 - val_acc: 0.7824\n",
            "Epoch 212/500\n",
            "768/768 [==============================] - 11s 15ms/step - loss: 0.2776 - acc: 0.8945 - val_loss: 0.4839 - val_acc: 0.7876\n",
            "Epoch 213/500\n",
            "768/768 [==============================] - 11s 15ms/step - loss: 0.2670 - acc: 0.8932 - val_loss: 0.4323 - val_acc: 0.7772\n",
            "Epoch 214/500\n",
            "768/768 [==============================] - 11s 15ms/step - loss: 0.2680 - acc: 0.8932 - val_loss: 0.4366 - val_acc: 0.7927\n",
            "Epoch 215/500\n",
            "768/768 [==============================] - 11s 15ms/step - loss: 0.2940 - acc: 0.8685 - val_loss: 0.4936 - val_acc: 0.7772\n",
            "Epoch 216/500\n",
            "768/768 [==============================] - 12s 15ms/step - loss: 0.2748 - acc: 0.8880 - val_loss: 0.4328 - val_acc: 0.7720\n",
            "Epoch 217/500\n",
            "768/768 [==============================] - 12s 15ms/step - loss: 0.2678 - acc: 0.8867 - val_loss: 0.5060 - val_acc: 0.7824\n",
            "Epoch 218/500\n",
            "768/768 [==============================] - 11s 15ms/step - loss: 0.3087 - acc: 0.8672 - val_loss: 0.4394 - val_acc: 0.7565\n",
            "Epoch 219/500\n",
            "768/768 [==============================] - 12s 15ms/step - loss: 0.2841 - acc: 0.8737 - val_loss: 0.4882 - val_acc: 0.7306\n",
            "Epoch 220/500\n",
            "768/768 [==============================] - 11s 15ms/step - loss: 0.2755 - acc: 0.8802 - val_loss: 0.4756 - val_acc: 0.7202\n",
            "Epoch 221/500\n",
            "768/768 [==============================] - 12s 15ms/step - loss: 0.2603 - acc: 0.8906 - val_loss: 0.4329 - val_acc: 0.7824\n",
            "Epoch 222/500\n",
            "768/768 [==============================] - 12s 15ms/step - loss: 0.2654 - acc: 0.8815 - val_loss: 0.4475 - val_acc: 0.7979\n",
            "Epoch 223/500\n",
            "768/768 [==============================] - 11s 15ms/step - loss: 0.2646 - acc: 0.8880 - val_loss: 0.4462 - val_acc: 0.7979\n",
            "Epoch 224/500\n",
            "768/768 [==============================] - 11s 15ms/step - loss: 0.2735 - acc: 0.8828 - val_loss: 0.4349 - val_acc: 0.7772\n",
            "Epoch 225/500\n",
            "768/768 [==============================] - 11s 15ms/step - loss: 0.2672 - acc: 0.8880 - val_loss: 0.4356 - val_acc: 0.7772\n",
            "Epoch 226/500\n",
            "768/768 [==============================] - 11s 15ms/step - loss: 0.2556 - acc: 0.8958 - val_loss: 0.4376 - val_acc: 0.7824\n",
            "Epoch 227/500\n",
            "768/768 [==============================] - 12s 15ms/step - loss: 0.2966 - acc: 0.8646 - val_loss: 0.4867 - val_acc: 0.7927\n",
            "Epoch 228/500\n",
            "768/768 [==============================] - 12s 15ms/step - loss: 0.2596 - acc: 0.8919 - val_loss: 0.4343 - val_acc: 0.7772\n",
            "Epoch 229/500\n",
            "768/768 [==============================] - 12s 15ms/step - loss: 0.2487 - acc: 0.9089 - val_loss: 0.4414 - val_acc: 0.7979\n",
            "Epoch 230/500\n",
            "768/768 [==============================] - 12s 15ms/step - loss: 0.2581 - acc: 0.8919 - val_loss: 0.4356 - val_acc: 0.7772\n",
            "Epoch 231/500\n",
            "768/768 [==============================] - 12s 15ms/step - loss: 0.2503 - acc: 0.8971 - val_loss: 0.4979 - val_acc: 0.7876\n",
            "Epoch 232/500\n",
            "768/768 [==============================] - 12s 15ms/step - loss: 0.2525 - acc: 0.8997 - val_loss: 0.4368 - val_acc: 0.7720\n",
            "Epoch 233/500\n",
            "768/768 [==============================] - 12s 15ms/step - loss: 0.2515 - acc: 0.8919 - val_loss: 0.4351 - val_acc: 0.7927\n",
            "Epoch 234/500\n",
            "768/768 [==============================] - 12s 15ms/step - loss: 0.2586 - acc: 0.9128 - val_loss: 0.4386 - val_acc: 0.7876\n",
            "Epoch 235/500\n",
            "768/768 [==============================] - 11s 15ms/step - loss: 0.2445 - acc: 0.9076 - val_loss: 0.4583 - val_acc: 0.7979\n",
            "Epoch 236/500\n",
            "768/768 [==============================] - 11s 15ms/step - loss: 0.2549 - acc: 0.8984 - val_loss: 0.4421 - val_acc: 0.7979\n",
            "Epoch 237/500\n",
            "768/768 [==============================] - 12s 15ms/step - loss: 0.2541 - acc: 0.8945 - val_loss: 0.4493 - val_acc: 0.7876\n",
            "Epoch 238/500\n",
            "768/768 [==============================] - 11s 15ms/step - loss: 0.2503 - acc: 0.8971 - val_loss: 0.4378 - val_acc: 0.7772\n",
            "Epoch 239/500\n",
            "768/768 [==============================] - 12s 15ms/step - loss: 0.2392 - acc: 0.9076 - val_loss: 0.5163 - val_acc: 0.7720\n",
            "Epoch 240/500\n",
            "768/768 [==============================] - 12s 15ms/step - loss: 0.2371 - acc: 0.9023 - val_loss: 0.4529 - val_acc: 0.7979\n",
            "Epoch 241/500\n",
            "768/768 [==============================] - 11s 15ms/step - loss: 0.2478 - acc: 0.9167 - val_loss: 0.5133 - val_acc: 0.7772\n",
            "Epoch 242/500\n",
            "768/768 [==============================] - 12s 15ms/step - loss: 0.2386 - acc: 0.9115 - val_loss: 0.4418 - val_acc: 0.7979\n",
            "Epoch 243/500\n",
            "768/768 [==============================] - 12s 15ms/step - loss: 0.2419 - acc: 0.9036 - val_loss: 0.4603 - val_acc: 0.7979\n",
            "Epoch 244/500\n",
            "768/768 [==============================] - 12s 15ms/step - loss: 0.2394 - acc: 0.9062 - val_loss: 0.4414 - val_acc: 0.7772\n",
            "Epoch 245/500\n",
            "768/768 [==============================] - 12s 15ms/step - loss: 0.2416 - acc: 0.9010 - val_loss: 0.5297 - val_acc: 0.7202\n",
            "Epoch 246/500\n",
            "768/768 [==============================] - 11s 15ms/step - loss: 0.2564 - acc: 0.8945 - val_loss: 0.4445 - val_acc: 0.7927\n",
            "Epoch 247/500\n",
            "768/768 [==============================] - 12s 15ms/step - loss: 0.2412 - acc: 0.9062 - val_loss: 0.5088 - val_acc: 0.7824\n",
            "Epoch 248/500\n",
            "768/768 [==============================] - 12s 15ms/step - loss: 0.2708 - acc: 0.8932 - val_loss: 0.4712 - val_acc: 0.7513\n",
            "Epoch 249/500\n",
            "768/768 [==============================] - 12s 15ms/step - loss: 0.2351 - acc: 0.9010 - val_loss: 0.4621 - val_acc: 0.8083\n",
            "Epoch 250/500\n",
            "768/768 [==============================] - 12s 15ms/step - loss: 0.2542 - acc: 0.8854 - val_loss: 0.4451 - val_acc: 0.7824\n",
            "Epoch 251/500\n",
            "768/768 [==============================] - 12s 15ms/step - loss: 0.2252 - acc: 0.9180 - val_loss: 0.4457 - val_acc: 0.8083\n",
            "Epoch 252/500\n",
            "768/768 [==============================] - 11s 15ms/step - loss: 0.2319 - acc: 0.9180 - val_loss: 0.4658 - val_acc: 0.8031\n",
            "Epoch 253/500\n",
            "768/768 [==============================] - 12s 15ms/step - loss: 0.2291 - acc: 0.9128 - val_loss: 0.5235 - val_acc: 0.7720\n",
            "Epoch 254/500\n",
            "768/768 [==============================] - 12s 15ms/step - loss: 0.2271 - acc: 0.9062 - val_loss: 0.4584 - val_acc: 0.8031\n",
            "Epoch 255/500\n",
            "768/768 [==============================] - 12s 15ms/step - loss: 0.2244 - acc: 0.9141 - val_loss: 0.4466 - val_acc: 0.7824\n",
            "Epoch 256/500\n",
            "768/768 [==============================] - 11s 15ms/step - loss: 0.2309 - acc: 0.8945 - val_loss: 0.4750 - val_acc: 0.8031\n",
            "Epoch 257/500\n",
            "768/768 [==============================] - 11s 15ms/step - loss: 0.2231 - acc: 0.9180 - val_loss: 0.4524 - val_acc: 0.7668\n",
            "Epoch 258/500\n",
            "768/768 [==============================] - 11s 15ms/step - loss: 0.2576 - acc: 0.8789 - val_loss: 0.5093 - val_acc: 0.7927\n",
            "Epoch 259/500\n",
            "768/768 [==============================] - 11s 15ms/step - loss: 0.2646 - acc: 0.8919 - val_loss: 0.4524 - val_acc: 0.7979\n",
            "Epoch 260/500\n",
            "768/768 [==============================] - 12s 15ms/step - loss: 0.2249 - acc: 0.9141 - val_loss: 0.4499 - val_acc: 0.7824\n",
            "Epoch 261/500\n",
            "768/768 [==============================] - 11s 15ms/step - loss: 0.2326 - acc: 0.9089 - val_loss: 0.4496 - val_acc: 0.7668\n",
            "Epoch 262/500\n",
            "768/768 [==============================] - 11s 15ms/step - loss: 0.2368 - acc: 0.9049 - val_loss: 0.4748 - val_acc: 0.8083\n",
            "Epoch 263/500\n",
            "768/768 [==============================] - 12s 15ms/step - loss: 0.2242 - acc: 0.9049 - val_loss: 0.4521 - val_acc: 0.7979\n",
            "Epoch 264/500\n",
            "768/768 [==============================] - 11s 15ms/step - loss: 0.2179 - acc: 0.9128 - val_loss: 0.4595 - val_acc: 0.7876\n",
            "Epoch 265/500\n",
            "768/768 [==============================] - 11s 15ms/step - loss: 0.2266 - acc: 0.9076 - val_loss: 0.5879 - val_acc: 0.7150\n",
            "Epoch 266/500\n",
            "768/768 [==============================] - 12s 15ms/step - loss: 0.2434 - acc: 0.8906 - val_loss: 0.6237 - val_acc: 0.7617\n",
            "Epoch 267/500\n",
            "768/768 [==============================] - 11s 15ms/step - loss: 0.2533 - acc: 0.8945 - val_loss: 0.4897 - val_acc: 0.7513\n",
            "Epoch 268/500\n",
            "768/768 [==============================] - 11s 15ms/step - loss: 0.3041 - acc: 0.8620 - val_loss: 0.5204 - val_acc: 0.8031\n",
            "Epoch 269/500\n",
            "768/768 [==============================] - 12s 15ms/step - loss: 0.2491 - acc: 0.8945 - val_loss: 0.4656 - val_acc: 0.7979\n",
            "Epoch 270/500\n",
            "768/768 [==============================] - 12s 15ms/step - loss: 0.2124 - acc: 0.9206 - val_loss: 0.4524 - val_acc: 0.7668\n",
            "Epoch 271/500\n",
            "768/768 [==============================] - 12s 15ms/step - loss: 0.2113 - acc: 0.9271 - val_loss: 0.4953 - val_acc: 0.7979\n",
            "Epoch 272/500\n",
            "768/768 [==============================] - 11s 15ms/step - loss: 0.2119 - acc: 0.9245 - val_loss: 0.4526 - val_acc: 0.7668\n",
            "Epoch 273/500\n",
            "768/768 [==============================] - 11s 15ms/step - loss: 0.2124 - acc: 0.9167 - val_loss: 0.4564 - val_acc: 0.7720\n",
            "Epoch 274/500\n",
            "768/768 [==============================] - 12s 15ms/step - loss: 0.2151 - acc: 0.9206 - val_loss: 0.4593 - val_acc: 0.7927\n",
            "Epoch 275/500\n",
            "768/768 [==============================] - 12s 15ms/step - loss: 0.2118 - acc: 0.9167 - val_loss: 0.4764 - val_acc: 0.8031\n",
            "Epoch 276/500\n",
            "768/768 [==============================] - 12s 15ms/step - loss: 0.2054 - acc: 0.9232 - val_loss: 0.4959 - val_acc: 0.8083\n",
            "Epoch 277/500\n",
            "768/768 [==============================] - 12s 15ms/step - loss: 0.2077 - acc: 0.9193 - val_loss: 0.4635 - val_acc: 0.7979\n",
            "Epoch 278/500\n",
            "768/768 [==============================] - 11s 15ms/step - loss: 0.2107 - acc: 0.9232 - val_loss: 0.5212 - val_acc: 0.7927\n",
            "Epoch 279/500\n",
            "768/768 [==============================] - 12s 15ms/step - loss: 0.2252 - acc: 0.9049 - val_loss: 0.5268 - val_acc: 0.7306\n",
            "Epoch 280/500\n",
            "768/768 [==============================] - 12s 15ms/step - loss: 0.2334 - acc: 0.8971 - val_loss: 0.5100 - val_acc: 0.8083\n",
            "Epoch 281/500\n",
            "768/768 [==============================] - 12s 15ms/step - loss: 0.2046 - acc: 0.9310 - val_loss: 0.4715 - val_acc: 0.7927\n",
            "Epoch 282/500\n",
            "768/768 [==============================] - 12s 15ms/step - loss: 0.2138 - acc: 0.9076 - val_loss: 0.4838 - val_acc: 0.7513\n",
            "Epoch 283/500\n",
            "768/768 [==============================] - 11s 15ms/step - loss: 0.2198 - acc: 0.9102 - val_loss: 0.4909 - val_acc: 0.8083\n",
            "Epoch 284/500\n",
            "768/768 [==============================] - 11s 15ms/step - loss: 0.2009 - acc: 0.9219 - val_loss: 0.5145 - val_acc: 0.8031\n",
            "Epoch 285/500\n",
            "768/768 [==============================] - 11s 15ms/step - loss: 0.2058 - acc: 0.9297 - val_loss: 0.4624 - val_acc: 0.7772\n",
            "Epoch 286/500\n",
            "768/768 [==============================] - 11s 15ms/step - loss: 0.2021 - acc: 0.9258 - val_loss: 0.4735 - val_acc: 0.7927\n",
            "Epoch 287/500\n",
            "768/768 [==============================] - 11s 15ms/step - loss: 0.2055 - acc: 0.9232 - val_loss: 0.4759 - val_acc: 0.7617\n",
            "Epoch 288/500\n",
            "768/768 [==============================] - 11s 15ms/step - loss: 0.1993 - acc: 0.9219 - val_loss: 0.4887 - val_acc: 0.8031\n",
            "Epoch 289/500\n",
            "768/768 [==============================] - 11s 15ms/step - loss: 0.2030 - acc: 0.9258 - val_loss: 0.5231 - val_acc: 0.7979\n",
            "Epoch 290/500\n",
            "768/768 [==============================] - 11s 15ms/step - loss: 0.1987 - acc: 0.9284 - val_loss: 0.4653 - val_acc: 0.7617\n",
            "Epoch 291/500\n",
            "768/768 [==============================] - 12s 15ms/step - loss: 0.2202 - acc: 0.9167 - val_loss: 0.6517 - val_acc: 0.7565\n",
            "Epoch 292/500\n",
            "768/768 [==============================] - 12s 15ms/step - loss: 0.2163 - acc: 0.9102 - val_loss: 0.4672 - val_acc: 0.7772\n",
            "Epoch 293/500\n",
            "768/768 [==============================] - 11s 15ms/step - loss: 0.1915 - acc: 0.9245 - val_loss: 0.4831 - val_acc: 0.7565\n",
            "Epoch 294/500\n",
            "768/768 [==============================] - 12s 15ms/step - loss: 0.2137 - acc: 0.9154 - val_loss: 0.4817 - val_acc: 0.7565\n",
            "Epoch 295/500\n",
            "768/768 [==============================] - 12s 15ms/step - loss: 0.1928 - acc: 0.9375 - val_loss: 0.4816 - val_acc: 0.7927\n",
            "Epoch 296/500\n",
            "768/768 [==============================] - 11s 15ms/step - loss: 0.1870 - acc: 0.9362 - val_loss: 0.4794 - val_acc: 0.7927\n",
            "Epoch 297/500\n",
            "768/768 [==============================] - 12s 15ms/step - loss: 0.1981 - acc: 0.9336 - val_loss: 0.4815 - val_acc: 0.7979\n",
            "Epoch 298/500\n",
            "768/768 [==============================] - 12s 15ms/step - loss: 0.1956 - acc: 0.9258 - val_loss: 0.4758 - val_acc: 0.7565\n",
            "Epoch 299/500\n",
            "768/768 [==============================] - 11s 15ms/step - loss: 0.2084 - acc: 0.9219 - val_loss: 0.4739 - val_acc: 0.7979\n",
            "Epoch 300/500\n",
            "768/768 [==============================] - 12s 16ms/step - loss: 0.1954 - acc: 0.9284 - val_loss: 0.5160 - val_acc: 0.7409\n",
            "Epoch 301/500\n",
            "768/768 [==============================] - 13s 17ms/step - loss: 0.2135 - acc: 0.9102 - val_loss: 0.5000 - val_acc: 0.8083\n",
            "Epoch 302/500\n",
            "768/768 [==============================] - 13s 17ms/step - loss: 0.1909 - acc: 0.9401 - val_loss: 0.4790 - val_acc: 0.7617\n",
            "Epoch 303/500\n",
            "768/768 [==============================] - 13s 17ms/step - loss: 0.2021 - acc: 0.9232 - val_loss: 0.5037 - val_acc: 0.8135\n",
            "Epoch 304/500\n",
            "768/768 [==============================] - 13s 17ms/step - loss: 0.2039 - acc: 0.9206 - val_loss: 0.4976 - val_acc: 0.8031\n",
            "Epoch 305/500\n",
            "768/768 [==============================] - 13s 17ms/step - loss: 0.1849 - acc: 0.9388 - val_loss: 0.5000 - val_acc: 0.8031\n",
            "Epoch 306/500\n",
            "768/768 [==============================] - 13s 17ms/step - loss: 0.2086 - acc: 0.9115 - val_loss: 0.4943 - val_acc: 0.7927\n",
            "Epoch 307/500\n",
            "768/768 [==============================] - 14s 18ms/step - loss: 0.1799 - acc: 0.9349 - val_loss: 0.4811 - val_acc: 0.7979\n",
            "Epoch 308/500\n",
            "768/768 [==============================] - 13s 17ms/step - loss: 0.1774 - acc: 0.9336 - val_loss: 0.4749 - val_acc: 0.7772\n",
            "Epoch 309/500\n",
            "768/768 [==============================] - 13s 17ms/step - loss: 0.2156 - acc: 0.9154 - val_loss: 0.5839 - val_acc: 0.7979\n",
            "Epoch 310/500\n",
            "768/768 [==============================] - 14s 18ms/step - loss: 0.2236 - acc: 0.9010 - val_loss: 0.6716 - val_acc: 0.7565\n",
            "Epoch 311/500\n",
            "768/768 [==============================] - 15s 19ms/step - loss: 0.1812 - acc: 0.9362 - val_loss: 0.4807 - val_acc: 0.7927\n",
            "Epoch 312/500\n",
            "768/768 [==============================] - 14s 19ms/step - loss: 0.2092 - acc: 0.9206 - val_loss: 0.5806 - val_acc: 0.7202\n",
            "Epoch 313/500\n",
            "768/768 [==============================] - 14s 19ms/step - loss: 0.2003 - acc: 0.9284 - val_loss: 0.5035 - val_acc: 0.8031\n",
            "Epoch 314/500\n",
            "768/768 [==============================] - 13s 17ms/step - loss: 0.1992 - acc: 0.9206 - val_loss: 0.5280 - val_acc: 0.7306\n",
            "Epoch 315/500\n",
            "768/768 [==============================] - 13s 17ms/step - loss: 0.2132 - acc: 0.9167 - val_loss: 0.5628 - val_acc: 0.8031\n",
            "Epoch 316/500\n",
            "768/768 [==============================] - 13s 17ms/step - loss: 0.1823 - acc: 0.9336 - val_loss: 0.4841 - val_acc: 0.7617\n",
            "Epoch 317/500\n",
            "768/768 [==============================] - 13s 17ms/step - loss: 0.1672 - acc: 0.9453 - val_loss: 0.4965 - val_acc: 0.7927\n",
            "Epoch 318/500\n",
            "768/768 [==============================] - 13s 17ms/step - loss: 0.1880 - acc: 0.9271 - val_loss: 0.5201 - val_acc: 0.7409\n",
            "Epoch 319/500\n",
            "768/768 [==============================] - 13s 17ms/step - loss: 0.1807 - acc: 0.9414 - val_loss: 0.5373 - val_acc: 0.7979\n",
            "Epoch 320/500\n",
            "768/768 [==============================] - 13s 17ms/step - loss: 0.1671 - acc: 0.9401 - val_loss: 0.4956 - val_acc: 0.7617\n",
            "Epoch 321/500\n",
            "768/768 [==============================] - 13s 17ms/step - loss: 0.2131 - acc: 0.9049 - val_loss: 0.5485 - val_acc: 0.8031\n",
            "Epoch 322/500\n",
            "768/768 [==============================] - 13s 17ms/step - loss: 0.2235 - acc: 0.9102 - val_loss: 0.5133 - val_acc: 0.7461\n",
            "Epoch 323/500\n",
            "768/768 [==============================] - 13s 17ms/step - loss: 0.1942 - acc: 0.9128 - val_loss: 0.5184 - val_acc: 0.8031\n",
            "Epoch 324/500\n",
            "768/768 [==============================] - 13s 17ms/step - loss: 0.1934 - acc: 0.9310 - val_loss: 0.6175 - val_acc: 0.7824\n",
            "Epoch 325/500\n",
            "768/768 [==============================] - 14s 18ms/step - loss: 0.2191 - acc: 0.9049 - val_loss: 0.5450 - val_acc: 0.7254\n",
            "Epoch 326/500\n",
            "768/768 [==============================] - 13s 17ms/step - loss: 0.1805 - acc: 0.9310 - val_loss: 0.6217 - val_acc: 0.7720\n",
            "Epoch 327/500\n",
            "768/768 [==============================] - 13s 17ms/step - loss: 0.1689 - acc: 0.9336 - val_loss: 0.4894 - val_acc: 0.7927\n",
            "Epoch 328/500\n",
            "768/768 [==============================] - 13s 17ms/step - loss: 0.1602 - acc: 0.9466 - val_loss: 0.5107 - val_acc: 0.8083\n",
            "Epoch 329/500\n",
            "768/768 [==============================] - 13s 17ms/step - loss: 0.1710 - acc: 0.9362 - val_loss: 0.6473 - val_acc: 0.7565\n",
            "Epoch 330/500\n",
            "768/768 [==============================] - 13s 17ms/step - loss: 0.2286 - acc: 0.8906 - val_loss: 0.5425 - val_acc: 0.7306\n",
            "Epoch 331/500\n",
            "768/768 [==============================] - 13s 17ms/step - loss: 0.1717 - acc: 0.9375 - val_loss: 0.5025 - val_acc: 0.8031\n",
            "Epoch 332/500\n",
            "768/768 [==============================] - 13s 17ms/step - loss: 0.1701 - acc: 0.9440 - val_loss: 0.4906 - val_acc: 0.7565\n",
            "Epoch 333/500\n",
            "768/768 [==============================] - 13s 17ms/step - loss: 0.1703 - acc: 0.9414 - val_loss: 0.5020 - val_acc: 0.7979\n",
            "Epoch 334/500\n",
            "768/768 [==============================] - 13s 17ms/step - loss: 0.1661 - acc: 0.9388 - val_loss: 0.5162 - val_acc: 0.8031\n",
            "Epoch 335/500\n",
            "768/768 [==============================] - 13s 17ms/step - loss: 0.1703 - acc: 0.9440 - val_loss: 0.5531 - val_acc: 0.8083\n",
            "Epoch 336/500\n",
            "768/768 [==============================] - 13s 17ms/step - loss: 0.1917 - acc: 0.9258 - val_loss: 0.5199 - val_acc: 0.7461\n",
            "Epoch 337/500\n",
            "768/768 [==============================] - 13s 17ms/step - loss: 0.1557 - acc: 0.9427 - val_loss: 0.4982 - val_acc: 0.7927\n",
            "Epoch 338/500\n",
            "768/768 [==============================] - 13s 17ms/step - loss: 0.1592 - acc: 0.9453 - val_loss: 0.5112 - val_acc: 0.7927\n",
            "Epoch 339/500\n",
            "768/768 [==============================] - 13s 16ms/step - loss: 0.1600 - acc: 0.9492 - val_loss: 0.4928 - val_acc: 0.7720\n",
            "Epoch 340/500\n",
            "768/768 [==============================] - 13s 17ms/step - loss: 0.1678 - acc: 0.9349 - val_loss: 0.6205 - val_acc: 0.8083\n",
            "Epoch 341/500\n",
            "768/768 [==============================] - 13s 17ms/step - loss: 0.2046 - acc: 0.9245 - val_loss: 0.4980 - val_acc: 0.7772\n",
            "Epoch 342/500\n",
            "768/768 [==============================] - 13s 16ms/step - loss: 0.1678 - acc: 0.9427 - val_loss: 0.5040 - val_acc: 0.7979\n",
            "Epoch 343/500\n",
            "768/768 [==============================] - 13s 17ms/step - loss: 0.1523 - acc: 0.9505 - val_loss: 0.5324 - val_acc: 0.7979\n",
            "Epoch 344/500\n",
            "768/768 [==============================] - 13s 17ms/step - loss: 0.1570 - acc: 0.9466 - val_loss: 0.4971 - val_acc: 0.7824\n",
            "Epoch 345/500\n",
            "768/768 [==============================] - 13s 17ms/step - loss: 0.2065 - acc: 0.9102 - val_loss: 0.5342 - val_acc: 0.7979\n",
            "Epoch 346/500\n",
            "768/768 [==============================] - 13s 16ms/step - loss: 0.1475 - acc: 0.9505 - val_loss: 0.5130 - val_acc: 0.8031\n",
            "Epoch 347/500\n",
            "768/768 [==============================] - 13s 16ms/step - loss: 0.1531 - acc: 0.9518 - val_loss: 0.5993 - val_acc: 0.8083\n",
            "Epoch 348/500\n",
            "768/768 [==============================] - 13s 17ms/step - loss: 0.1498 - acc: 0.9544 - val_loss: 0.5238 - val_acc: 0.7979\n",
            "Epoch 349/500\n",
            "768/768 [==============================] - 13s 17ms/step - loss: 0.1505 - acc: 0.9453 - val_loss: 0.5933 - val_acc: 0.8083\n",
            "Epoch 350/500\n",
            "768/768 [==============================] - 13s 16ms/step - loss: 0.1557 - acc: 0.9401 - val_loss: 0.5051 - val_acc: 0.7876\n",
            "Epoch 351/500\n",
            "768/768 [==============================] - 12s 16ms/step - loss: 0.1697 - acc: 0.9349 - val_loss: 0.5179 - val_acc: 0.7565\n",
            "Epoch 352/500\n",
            "768/768 [==============================] - 12s 16ms/step - loss: 0.1809 - acc: 0.9245 - val_loss: 0.5578 - val_acc: 0.8083\n",
            "Epoch 353/500\n",
            "768/768 [==============================] - 12s 16ms/step - loss: 0.1423 - acc: 0.9557 - val_loss: 0.5865 - val_acc: 0.8083\n",
            "Epoch 354/500\n",
            "768/768 [==============================] - 12s 16ms/step - loss: 0.1591 - acc: 0.9440 - val_loss: 0.5051 - val_acc: 0.7668\n",
            "Epoch 355/500\n",
            "768/768 [==============================] - 12s 16ms/step - loss: 0.1468 - acc: 0.9518 - val_loss: 0.5989 - val_acc: 0.8031\n",
            "Epoch 356/500\n",
            "768/768 [==============================] - 12s 16ms/step - loss: 0.1391 - acc: 0.9544 - val_loss: 0.5393 - val_acc: 0.7979\n",
            "Epoch 357/500\n",
            "768/768 [==============================] - 12s 16ms/step - loss: 0.1391 - acc: 0.9557 - val_loss: 0.5253 - val_acc: 0.8031\n",
            "Epoch 358/500\n",
            "768/768 [==============================] - 12s 16ms/step - loss: 0.1386 - acc: 0.9466 - val_loss: 0.5767 - val_acc: 0.8083\n",
            "Epoch 359/500\n",
            "768/768 [==============================] - 12s 16ms/step - loss: 0.1582 - acc: 0.9388 - val_loss: 0.5197 - val_acc: 0.7461\n",
            "Epoch 360/500\n",
            "768/768 [==============================] - 12s 16ms/step - loss: 0.1689 - acc: 0.9375 - val_loss: 0.6047 - val_acc: 0.8031\n",
            "Epoch 361/500\n",
            "768/768 [==============================] - 12s 16ms/step - loss: 0.1963 - acc: 0.9206 - val_loss: 0.5132 - val_acc: 0.7772\n",
            "Epoch 362/500\n",
            "768/768 [==============================] - 12s 16ms/step - loss: 0.1668 - acc: 0.9414 - val_loss: 0.5215 - val_acc: 0.8031\n",
            "Epoch 363/500\n",
            "768/768 [==============================] - 12s 15ms/step - loss: 0.1381 - acc: 0.9557 - val_loss: 0.5246 - val_acc: 0.7513\n",
            "Epoch 364/500\n",
            "768/768 [==============================] - 12s 16ms/step - loss: 0.1448 - acc: 0.9518 - val_loss: 0.5189 - val_acc: 0.7979\n",
            "Epoch 365/500\n",
            "768/768 [==============================] - 12s 15ms/step - loss: 0.1366 - acc: 0.9570 - val_loss: 0.5226 - val_acc: 0.7979\n",
            "Epoch 366/500\n",
            "768/768 [==============================] - 12s 15ms/step - loss: 0.1292 - acc: 0.9622 - val_loss: 0.5338 - val_acc: 0.8083\n",
            "Epoch 367/500\n",
            "768/768 [==============================] - 12s 15ms/step - loss: 0.1533 - acc: 0.9453 - val_loss: 0.6369 - val_acc: 0.7098\n",
            "Epoch 368/500\n",
            "768/768 [==============================] - 12s 15ms/step - loss: 0.1457 - acc: 0.9492 - val_loss: 0.5346 - val_acc: 0.8083\n",
            "Epoch 369/500\n",
            "768/768 [==============================] - 12s 15ms/step - loss: 0.1316 - acc: 0.9596 - val_loss: 0.5548 - val_acc: 0.7358\n",
            "Epoch 370/500\n",
            "768/768 [==============================] - 12s 15ms/step - loss: 0.1396 - acc: 0.9505 - val_loss: 0.5275 - val_acc: 0.8083\n",
            "Epoch 371/500\n",
            "768/768 [==============================] - 12s 15ms/step - loss: 0.1270 - acc: 0.9570 - val_loss: 0.5195 - val_acc: 0.7824\n",
            "Epoch 372/500\n",
            "768/768 [==============================] - 12s 15ms/step - loss: 0.1484 - acc: 0.9505 - val_loss: 0.5331 - val_acc: 0.7513\n",
            "Epoch 373/500\n",
            "768/768 [==============================] - 12s 15ms/step - loss: 0.1464 - acc: 0.9466 - val_loss: 0.5623 - val_acc: 0.7979\n",
            "Epoch 374/500\n",
            "768/768 [==============================] - 12s 15ms/step - loss: 0.1242 - acc: 0.9544 - val_loss: 0.5966 - val_acc: 0.8135\n",
            "Epoch 375/500\n",
            "768/768 [==============================] - 11s 15ms/step - loss: 0.1288 - acc: 0.9583 - val_loss: 0.5319 - val_acc: 0.7979\n",
            "Epoch 376/500\n",
            "768/768 [==============================] - 11s 15ms/step - loss: 0.1232 - acc: 0.9609 - val_loss: 0.5243 - val_acc: 0.7824\n",
            "Epoch 377/500\n",
            "768/768 [==============================] - 11s 15ms/step - loss: 0.1264 - acc: 0.9570 - val_loss: 0.5836 - val_acc: 0.8083\n",
            "Epoch 378/500\n",
            "768/768 [==============================] - 11s 15ms/step - loss: 0.1446 - acc: 0.9479 - val_loss: 0.6064 - val_acc: 0.7254\n",
            "Epoch 379/500\n",
            "768/768 [==============================] - 11s 15ms/step - loss: 0.1867 - acc: 0.9232 - val_loss: 0.5962 - val_acc: 0.7979\n",
            "Epoch 380/500\n",
            "768/768 [==============================] - 11s 15ms/step - loss: 0.2127 - acc: 0.9049 - val_loss: 0.5411 - val_acc: 0.7513\n",
            "Epoch 381/500\n",
            "768/768 [==============================] - 11s 15ms/step - loss: 0.1570 - acc: 0.9427 - val_loss: 0.5756 - val_acc: 0.7979\n",
            "Epoch 382/500\n",
            "768/768 [==============================] - 12s 15ms/step - loss: 0.1305 - acc: 0.9609 - val_loss: 0.5383 - val_acc: 0.7979\n",
            "Epoch 383/500\n",
            "768/768 [==============================] - 12s 15ms/step - loss: 0.1194 - acc: 0.9622 - val_loss: 0.5447 - val_acc: 0.7979\n",
            "Epoch 384/500\n",
            "768/768 [==============================] - 11s 15ms/step - loss: 0.1808 - acc: 0.9284 - val_loss: 0.5437 - val_acc: 0.7513\n",
            "Epoch 385/500\n",
            "768/768 [==============================] - 12s 15ms/step - loss: 0.1418 - acc: 0.9466 - val_loss: 0.5437 - val_acc: 0.7617\n",
            "Epoch 386/500\n",
            "768/768 [==============================] - 12s 15ms/step - loss: 0.1203 - acc: 0.9609 - val_loss: 0.6366 - val_acc: 0.8083\n",
            "Epoch 387/500\n",
            "768/768 [==============================] - 12s 15ms/step - loss: 0.1225 - acc: 0.9622 - val_loss: 0.5425 - val_acc: 0.8083\n",
            "Epoch 388/500\n",
            "768/768 [==============================] - 12s 15ms/step - loss: 0.1226 - acc: 0.9596 - val_loss: 0.5313 - val_acc: 0.7876\n",
            "Epoch 389/500\n",
            "768/768 [==============================] - 12s 15ms/step - loss: 0.1189 - acc: 0.9648 - val_loss: 0.5998 - val_acc: 0.8031\n",
            "Epoch 390/500\n",
            "768/768 [==============================] - 12s 15ms/step - loss: 0.1136 - acc: 0.9661 - val_loss: 0.5524 - val_acc: 0.7461\n",
            "Epoch 391/500\n",
            "768/768 [==============================] - 12s 15ms/step - loss: 0.1394 - acc: 0.9440 - val_loss: 0.6675 - val_acc: 0.8031\n",
            "Epoch 392/500\n",
            "768/768 [==============================] - 11s 15ms/step - loss: 0.1279 - acc: 0.9596 - val_loss: 0.5540 - val_acc: 0.8031\n",
            "Epoch 393/500\n",
            "768/768 [==============================] - 11s 15ms/step - loss: 0.1346 - acc: 0.9466 - val_loss: 0.5501 - val_acc: 0.7565\n",
            "Epoch 394/500\n",
            "768/768 [==============================] - 11s 15ms/step - loss: 0.1617 - acc: 0.9362 - val_loss: 0.5693 - val_acc: 0.7979\n",
            "Epoch 395/500\n",
            "768/768 [==============================] - 12s 15ms/step - loss: 0.1210 - acc: 0.9583 - val_loss: 0.7351 - val_acc: 0.7720\n",
            "Epoch 396/500\n",
            "768/768 [==============================] - 12s 15ms/step - loss: 0.1597 - acc: 0.9323 - val_loss: 0.6258 - val_acc: 0.8135\n",
            "Epoch 397/500\n",
            "768/768 [==============================] - 12s 15ms/step - loss: 0.1267 - acc: 0.9531 - val_loss: 0.5638 - val_acc: 0.7979\n",
            "Epoch 398/500\n",
            "768/768 [==============================] - 12s 15ms/step - loss: 0.1095 - acc: 0.9674 - val_loss: 0.5459 - val_acc: 0.7565\n",
            "Epoch 399/500\n",
            "768/768 [==============================] - 12s 15ms/step - loss: 0.1120 - acc: 0.9701 - val_loss: 0.5779 - val_acc: 0.8083\n",
            "Epoch 400/500\n",
            "768/768 [==============================] - 11s 15ms/step - loss: 0.1487 - acc: 0.9362 - val_loss: 0.7143 - val_acc: 0.7202\n",
            "Epoch 401/500\n",
            "768/768 [==============================] - 12s 15ms/step - loss: 0.1711 - acc: 0.9258 - val_loss: 0.6161 - val_acc: 0.8083\n",
            "Epoch 402/500\n",
            "768/768 [==============================] - 12s 15ms/step - loss: 0.1086 - acc: 0.9661 - val_loss: 0.5913 - val_acc: 0.8031\n",
            "Epoch 403/500\n",
            "768/768 [==============================] - 11s 15ms/step - loss: 0.1165 - acc: 0.9635 - val_loss: 0.5424 - val_acc: 0.7668\n",
            "Epoch 404/500\n",
            "768/768 [==============================] - 11s 15ms/step - loss: 0.1213 - acc: 0.9635 - val_loss: 0.5604 - val_acc: 0.8031\n",
            "Epoch 405/500\n",
            "768/768 [==============================] - 12s 15ms/step - loss: 0.1063 - acc: 0.9674 - val_loss: 0.5437 - val_acc: 0.7720\n",
            "Epoch 406/500\n",
            "768/768 [==============================] - 12s 15ms/step - loss: 0.0998 - acc: 0.9688 - val_loss: 0.6024 - val_acc: 0.8135\n",
            "Epoch 407/500\n",
            "768/768 [==============================] - 11s 15ms/step - loss: 0.1092 - acc: 0.9609 - val_loss: 0.5655 - val_acc: 0.7979\n",
            "Epoch 408/500\n",
            "768/768 [==============================] - 12s 15ms/step - loss: 0.1075 - acc: 0.9674 - val_loss: 0.5481 - val_acc: 0.7824\n",
            "Epoch 409/500\n",
            "768/768 [==============================] - 11s 15ms/step - loss: 0.1003 - acc: 0.9674 - val_loss: 0.5695 - val_acc: 0.8031\n",
            "Epoch 410/500\n",
            "768/768 [==============================] - 12s 15ms/step - loss: 0.1096 - acc: 0.9622 - val_loss: 0.5494 - val_acc: 0.7772\n",
            "Epoch 411/500\n",
            "768/768 [==============================] - 12s 15ms/step - loss: 0.1001 - acc: 0.9674 - val_loss: 0.5599 - val_acc: 0.7979\n",
            "Epoch 412/500\n",
            "768/768 [==============================] - 12s 15ms/step - loss: 0.1007 - acc: 0.9727 - val_loss: 0.5545 - val_acc: 0.7565\n",
            "Epoch 413/500\n",
            "768/768 [==============================] - 11s 15ms/step - loss: 0.1003 - acc: 0.9701 - val_loss: 0.5731 - val_acc: 0.8031\n",
            "Epoch 414/500\n",
            "768/768 [==============================] - 11s 15ms/step - loss: 0.0975 - acc: 0.9688 - val_loss: 0.5550 - val_acc: 0.7772\n",
            "Epoch 415/500\n",
            "768/768 [==============================] - 11s 15ms/step - loss: 0.1018 - acc: 0.9648 - val_loss: 0.5548 - val_acc: 0.7772\n",
            "Epoch 416/500\n",
            "768/768 [==============================] - 12s 15ms/step - loss: 0.1113 - acc: 0.9635 - val_loss: 0.5870 - val_acc: 0.8135\n",
            "Epoch 417/500\n",
            "768/768 [==============================] - 12s 15ms/step - loss: 0.0909 - acc: 0.9753 - val_loss: 0.5810 - val_acc: 0.8031\n",
            "Epoch 418/500\n",
            "768/768 [==============================] - 12s 15ms/step - loss: 0.0941 - acc: 0.9753 - val_loss: 0.6630 - val_acc: 0.8031\n",
            "Epoch 419/500\n",
            "768/768 [==============================] - 12s 15ms/step - loss: 0.1003 - acc: 0.9701 - val_loss: 0.6409 - val_acc: 0.7254\n",
            "Epoch 420/500\n",
            "768/768 [==============================] - 11s 15ms/step - loss: 0.1291 - acc: 0.9505 - val_loss: 0.6006 - val_acc: 0.7254\n",
            "Epoch 421/500\n",
            "768/768 [==============================] - 11s 15ms/step - loss: 0.1514 - acc: 0.9336 - val_loss: 0.6131 - val_acc: 0.7824\n",
            "Epoch 422/500\n",
            "768/768 [==============================] - 12s 15ms/step - loss: 0.1394 - acc: 0.9492 - val_loss: 0.6528 - val_acc: 0.7979\n",
            "Epoch 423/500\n",
            "768/768 [==============================] - 11s 15ms/step - loss: 0.1001 - acc: 0.9701 - val_loss: 0.5678 - val_acc: 0.7565\n",
            "Epoch 424/500\n",
            "768/768 [==============================] - 12s 15ms/step - loss: 0.1290 - acc: 0.9518 - val_loss: 0.6046 - val_acc: 0.8135\n",
            "Epoch 425/500\n",
            "768/768 [==============================] - 12s 15ms/step - loss: 0.0867 - acc: 0.9727 - val_loss: 0.6022 - val_acc: 0.7409\n",
            "Epoch 426/500\n",
            "768/768 [==============================] - 11s 15ms/step - loss: 0.0932 - acc: 0.9779 - val_loss: 0.5734 - val_acc: 0.7513\n",
            "Epoch 427/500\n",
            "768/768 [==============================] - 12s 15ms/step - loss: 0.0915 - acc: 0.9714 - val_loss: 0.5720 - val_acc: 0.7668\n",
            "Epoch 428/500\n",
            "768/768 [==============================] - 11s 15ms/step - loss: 0.1980 - acc: 0.9193 - val_loss: 0.8038 - val_acc: 0.7565\n",
            "Epoch 429/500\n",
            "768/768 [==============================] - 11s 15ms/step - loss: 0.1040 - acc: 0.9674 - val_loss: 0.5885 - val_acc: 0.7617\n",
            "Epoch 430/500\n",
            "768/768 [==============================] - 12s 15ms/step - loss: 0.0982 - acc: 0.9714 - val_loss: 0.5811 - val_acc: 0.7979\n",
            "Epoch 431/500\n",
            "768/768 [==============================] - 11s 15ms/step - loss: 0.0989 - acc: 0.9674 - val_loss: 0.5698 - val_acc: 0.7617\n",
            "Epoch 432/500\n",
            "768/768 [==============================] - 11s 15ms/step - loss: 0.1112 - acc: 0.9583 - val_loss: 0.5866 - val_acc: 0.7927\n",
            "Epoch 433/500\n",
            "768/768 [==============================] - 11s 15ms/step - loss: 0.0823 - acc: 0.9766 - val_loss: 0.6277 - val_acc: 0.8031\n",
            "Epoch 434/500\n",
            "768/768 [==============================] - 11s 15ms/step - loss: 0.0912 - acc: 0.9714 - val_loss: 0.6062 - val_acc: 0.8031\n",
            "Epoch 435/500\n",
            "768/768 [==============================] - 12s 15ms/step - loss: 0.0845 - acc: 0.9727 - val_loss: 0.6320 - val_acc: 0.7306\n",
            "Epoch 436/500\n",
            "768/768 [==============================] - 11s 15ms/step - loss: 0.0865 - acc: 0.9779 - val_loss: 0.5871 - val_acc: 0.7979\n",
            "Epoch 437/500\n",
            "768/768 [==============================] - 12s 15ms/step - loss: 0.0889 - acc: 0.9727 - val_loss: 0.5922 - val_acc: 0.8031\n",
            "Epoch 438/500\n",
            "768/768 [==============================] - 11s 15ms/step - loss: 0.0870 - acc: 0.9740 - val_loss: 0.5821 - val_acc: 0.7876\n",
            "Epoch 439/500\n",
            "768/768 [==============================] - 11s 15ms/step - loss: 0.0782 - acc: 0.9779 - val_loss: 0.6080 - val_acc: 0.7927\n",
            "Epoch 440/500\n",
            "768/768 [==============================] - 11s 15ms/step - loss: 0.0793 - acc: 0.9753 - val_loss: 0.6890 - val_acc: 0.7979\n",
            "Epoch 441/500\n",
            "768/768 [==============================] - 11s 15ms/step - loss: 0.0932 - acc: 0.9714 - val_loss: 0.5954 - val_acc: 0.7979\n",
            "Epoch 442/500\n",
            "768/768 [==============================] - 12s 15ms/step - loss: 0.0978 - acc: 0.9701 - val_loss: 0.5804 - val_acc: 0.7565\n",
            "Epoch 443/500\n",
            "768/768 [==============================] - 12s 15ms/step - loss: 0.0998 - acc: 0.9661 - val_loss: 0.6010 - val_acc: 0.7979\n",
            "Epoch 444/500\n",
            "768/768 [==============================] - 11s 15ms/step - loss: 0.0978 - acc: 0.9714 - val_loss: 0.5861 - val_acc: 0.7513\n",
            "Epoch 445/500\n",
            "768/768 [==============================] - 11s 15ms/step - loss: 0.0781 - acc: 0.9831 - val_loss: 0.6308 - val_acc: 0.7979\n",
            "Epoch 446/500\n",
            "768/768 [==============================] - 11s 15ms/step - loss: 0.0817 - acc: 0.9714 - val_loss: 0.5939 - val_acc: 0.7927\n",
            "Epoch 447/500\n",
            "768/768 [==============================] - 11s 15ms/step - loss: 0.0809 - acc: 0.9779 - val_loss: 0.5837 - val_acc: 0.7824\n",
            "Epoch 448/500\n",
            "768/768 [==============================] - 11s 15ms/step - loss: 0.0766 - acc: 0.9779 - val_loss: 0.6106 - val_acc: 0.8083\n",
            "Epoch 449/500\n",
            "768/768 [==============================] - 11s 15ms/step - loss: 0.0759 - acc: 0.9766 - val_loss: 0.6882 - val_acc: 0.7927\n",
            "Epoch 450/500\n",
            "768/768 [==============================] - 11s 15ms/step - loss: 0.0732 - acc: 0.9805 - val_loss: 0.6358 - val_acc: 0.8135\n",
            "Epoch 451/500\n",
            "768/768 [==============================] - 12s 15ms/step - loss: 0.0720 - acc: 0.9805 - val_loss: 0.6680 - val_acc: 0.8083\n",
            "Epoch 452/500\n",
            "768/768 [==============================] - 12s 15ms/step - loss: 0.0761 - acc: 0.9792 - val_loss: 0.5924 - val_acc: 0.7824\n",
            "Epoch 453/500\n",
            "768/768 [==============================] - 12s 15ms/step - loss: 0.1047 - acc: 0.9583 - val_loss: 0.6345 - val_acc: 0.7254\n",
            "Epoch 454/500\n",
            "768/768 [==============================] - 12s 15ms/step - loss: 0.0796 - acc: 0.9740 - val_loss: 0.6069 - val_acc: 0.7927\n",
            "Epoch 455/500\n",
            "768/768 [==============================] - 11s 15ms/step - loss: 0.0790 - acc: 0.9766 - val_loss: 0.6221 - val_acc: 0.8031\n",
            "Epoch 456/500\n",
            "768/768 [==============================] - 11s 15ms/step - loss: 0.0722 - acc: 0.9753 - val_loss: 0.6297 - val_acc: 0.7927\n",
            "Epoch 457/500\n",
            "768/768 [==============================] - 11s 15ms/step - loss: 0.0652 - acc: 0.9818 - val_loss: 0.6735 - val_acc: 0.8083\n",
            "Epoch 458/500\n",
            "768/768 [==============================] - 12s 15ms/step - loss: 0.0632 - acc: 0.9870 - val_loss: 0.6220 - val_acc: 0.8083\n",
            "Epoch 459/500\n",
            "768/768 [==============================] - 11s 15ms/step - loss: 0.0639 - acc: 0.9844 - val_loss: 0.6571 - val_acc: 0.8083\n",
            "Epoch 460/500\n",
            "768/768 [==============================] - 11s 15ms/step - loss: 0.0674 - acc: 0.9831 - val_loss: 0.6034 - val_acc: 0.7565\n",
            "Epoch 461/500\n",
            "768/768 [==============================] - 12s 15ms/step - loss: 0.0639 - acc: 0.9805 - val_loss: 0.6034 - val_acc: 0.7565\n",
            "Epoch 462/500\n",
            "768/768 [==============================] - 11s 15ms/step - loss: 0.0696 - acc: 0.9766 - val_loss: 0.6149 - val_acc: 0.7876\n",
            "Epoch 463/500\n",
            "768/768 [==============================] - 11s 15ms/step - loss: 0.0651 - acc: 0.9857 - val_loss: 0.6367 - val_acc: 0.8135\n",
            "Epoch 464/500\n",
            "768/768 [==============================] - 11s 15ms/step - loss: 0.1029 - acc: 0.9544 - val_loss: 0.6887 - val_acc: 0.7150\n",
            "Epoch 465/500\n",
            "768/768 [==============================] - 11s 15ms/step - loss: 0.0892 - acc: 0.9714 - val_loss: 0.6355 - val_acc: 0.7979\n",
            "Epoch 466/500\n",
            "768/768 [==============================] - 11s 15ms/step - loss: 0.0704 - acc: 0.9792 - val_loss: 0.6106 - val_acc: 0.7824\n",
            "Epoch 467/500\n",
            "768/768 [==============================] - 11s 15ms/step - loss: 0.0802 - acc: 0.9727 - val_loss: 0.6249 - val_acc: 0.7565\n",
            "Epoch 468/500\n",
            "768/768 [==============================] - 11s 15ms/step - loss: 0.0795 - acc: 0.9740 - val_loss: 0.6588 - val_acc: 0.7306\n",
            "Epoch 469/500\n",
            "768/768 [==============================] - 11s 15ms/step - loss: 0.0909 - acc: 0.9674 - val_loss: 0.7104 - val_acc: 0.7927\n",
            "Epoch 470/500\n",
            "768/768 [==============================] - 11s 15ms/step - loss: 0.1285 - acc: 0.9401 - val_loss: 0.6468 - val_acc: 0.8083\n",
            "Epoch 471/500\n",
            "768/768 [==============================] - 11s 15ms/step - loss: 0.0720 - acc: 0.9805 - val_loss: 0.7516 - val_acc: 0.7772\n",
            "Epoch 472/500\n",
            "768/768 [==============================] - 11s 15ms/step - loss: 0.0555 - acc: 0.9870 - val_loss: 0.6507 - val_acc: 0.7358\n",
            "Epoch 473/500\n",
            "768/768 [==============================] - 12s 15ms/step - loss: 0.0831 - acc: 0.9674 - val_loss: 0.6185 - val_acc: 0.7720\n",
            "Epoch 474/500\n",
            "768/768 [==============================] - 12s 15ms/step - loss: 0.0824 - acc: 0.9701 - val_loss: 0.6333 - val_acc: 0.8031\n",
            "Epoch 475/500\n",
            "768/768 [==============================] - 11s 15ms/step - loss: 0.0626 - acc: 0.9831 - val_loss: 0.6426 - val_acc: 0.8083\n",
            "Epoch 476/500\n",
            "768/768 [==============================] - 11s 15ms/step - loss: 0.0568 - acc: 0.9883 - val_loss: 0.6908 - val_acc: 0.8135\n",
            "Epoch 477/500\n",
            "768/768 [==============================] - 12s 15ms/step - loss: 0.0772 - acc: 0.9766 - val_loss: 0.6276 - val_acc: 0.7979\n",
            "Epoch 478/500\n",
            "768/768 [==============================] - 11s 15ms/step - loss: 0.0573 - acc: 0.9831 - val_loss: 0.6788 - val_acc: 0.8083\n",
            "Epoch 479/500\n",
            "768/768 [==============================] - 12s 15ms/step - loss: 0.0568 - acc: 0.9870 - val_loss: 0.6380 - val_acc: 0.7927\n",
            "Epoch 480/500\n",
            "768/768 [==============================] - 11s 15ms/step - loss: 0.0706 - acc: 0.9818 - val_loss: 0.7302 - val_acc: 0.8031\n",
            "Epoch 481/500\n",
            "768/768 [==============================] - 12s 15ms/step - loss: 0.0615 - acc: 0.9857 - val_loss: 0.8310 - val_acc: 0.7824\n",
            "Epoch 482/500\n",
            "768/768 [==============================] - 12s 15ms/step - loss: 0.0610 - acc: 0.9831 - val_loss: 0.6463 - val_acc: 0.7617\n",
            "Epoch 483/500\n",
            "768/768 [==============================] - 11s 15ms/step - loss: 0.0685 - acc: 0.9818 - val_loss: 0.6702 - val_acc: 0.8083\n",
            "Epoch 484/500\n",
            "768/768 [==============================] - 11s 15ms/step - loss: 0.0491 - acc: 0.9922 - val_loss: 0.6868 - val_acc: 0.8083\n",
            "Epoch 485/500\n",
            "768/768 [==============================] - 11s 15ms/step - loss: 0.0639 - acc: 0.9844 - val_loss: 0.6554 - val_acc: 0.7409\n",
            "Epoch 486/500\n",
            "768/768 [==============================] - 11s 15ms/step - loss: 0.0604 - acc: 0.9844 - val_loss: 0.6423 - val_acc: 0.7927\n",
            "Epoch 487/500\n",
            "768/768 [==============================] - 11s 15ms/step - loss: 0.0465 - acc: 0.9922 - val_loss: 0.6370 - val_acc: 0.7876\n",
            "Epoch 488/500\n",
            "768/768 [==============================] - 11s 15ms/step - loss: 0.0477 - acc: 0.9909 - val_loss: 0.7015 - val_acc: 0.8083\n",
            "Epoch 489/500\n",
            "768/768 [==============================] - 12s 15ms/step - loss: 0.0549 - acc: 0.9857 - val_loss: 0.8259 - val_acc: 0.7979\n",
            "Epoch 490/500\n",
            "768/768 [==============================] - 12s 15ms/step - loss: 0.0592 - acc: 0.9857 - val_loss: 0.7320 - val_acc: 0.7979\n",
            "Epoch 491/500\n",
            "768/768 [==============================] - 12s 15ms/step - loss: 0.0554 - acc: 0.9870 - val_loss: 0.6472 - val_acc: 0.7565\n",
            "Epoch 492/500\n",
            "768/768 [==============================] - 12s 15ms/step - loss: 0.0646 - acc: 0.9792 - val_loss: 0.6641 - val_acc: 0.7513\n",
            "Epoch 493/500\n",
            "768/768 [==============================] - 12s 15ms/step - loss: 0.0726 - acc: 0.9805 - val_loss: 0.6369 - val_acc: 0.7824\n",
            "Epoch 494/500\n",
            "768/768 [==============================] - 11s 15ms/step - loss: 0.0705 - acc: 0.9753 - val_loss: 0.6441 - val_acc: 0.7824\n",
            "Epoch 495/500\n",
            "768/768 [==============================] - 12s 15ms/step - loss: 0.0479 - acc: 0.9883 - val_loss: 0.6460 - val_acc: 0.7927\n",
            "Epoch 496/500\n",
            "768/768 [==============================] - 11s 15ms/step - loss: 0.0529 - acc: 0.9883 - val_loss: 0.8250 - val_acc: 0.7979\n",
            "Epoch 497/500\n",
            "768/768 [==============================] - 11s 15ms/step - loss: 0.0718 - acc: 0.9766 - val_loss: 0.6409 - val_acc: 0.7720\n",
            "Epoch 498/500\n",
            "768/768 [==============================] - 12s 15ms/step - loss: 0.0504 - acc: 0.9870 - val_loss: 0.6440 - val_acc: 0.7461\n",
            "Epoch 499/500\n",
            "768/768 [==============================] - 12s 15ms/step - loss: 0.0456 - acc: 0.9909 - val_loss: 0.6456 - val_acc: 0.7617\n",
            "Epoch 500/500\n",
            "768/768 [==============================] - 12s 15ms/step - loss: 0.0521 - acc: 0.9896 - val_loss: 0.6997 - val_acc: 0.7306\n"
          ],
          "name": "stdout"
        }
      ]
    },
    {
      "cell_type": "code",
      "metadata": {
        "id": "4d-ByVYHHc0W",
        "colab_type": "code",
        "colab": {}
      },
      "source": [
        ""
      ],
      "execution_count": 0,
      "outputs": []
    },
    {
      "cell_type": "code",
      "metadata": {
        "id": "cF9Rqzrk8eRc",
        "colab_type": "code",
        "outputId": "ffe21cb2-0638-43ff-af15-3341ecb1304d",
        "colab": {
          "base_uri": "https://localhost:8080/",
          "height": 286
        }
      },
      "source": [
        "y_pred = model_2.predict(X_test)\n",
        "target_names = ['health_train','not_health_train']\n",
        "from sklearn.metrics import accuracy_score, classification_report\n",
        "print(accuracy_score(y_test.argmax(axis=1), y_pred.argmax(axis=1)))\n",
        "print(classification_report(y_test.argmax(axis=1), y_pred.argmax(axis=1), target_names=target_names))\n",
        "preds = model_2.evaluate(x=X_test, y=y_test)\n",
        "print()\n",
        "print (\"Loss = \" + str(preds[0]))\n",
        "print (\"Test Accuracy = \" + str(preds[1]))\n",
        "import sklearn.metrics as metrics\n",
        "matrix = metrics.confusion_matrix(y_test.argmax(axis=1), y_pred.argmax(axis=1))\n",
        "print(matrix)\n"
      ],
      "execution_count": 0,
      "outputs": [
        {
          "output_type": "stream",
          "text": [
            "0.9128630705394191\n",
            "                  precision    recall  f1-score   support\n",
            "\n",
            "    health_train       0.91      0.89      0.90       105\n",
            "not_health_train       0.91      0.93      0.92       136\n",
            "\n",
            "        accuracy                           0.91       241\n",
            "       macro avg       0.91      0.91      0.91       241\n",
            "    weighted avg       0.91      0.91      0.91       241\n",
            "\n",
            "241/241 [==============================] - 1s 3ms/step\n",
            "\n",
            "Loss = 0.30791832797260205\n",
            "Test Accuracy = 0.9128630715287078\n",
            "[[ 93  12]\n",
            " [  9 127]]\n"
          ],
          "name": "stdout"
        }
      ]
    },
    {
      "cell_type": "code",
      "metadata": {
        "id": "TcpFnuEsuOaH",
        "colab_type": "code",
        "colab": {}
      },
      "source": [
        "img =  X_test[10]\n",
        "cv2.imwrite('color_img.jpg', img)\n",
        "plt.figure()\n",
        "#เราใช้ pyplot ในการโชว์รูปขึ้นมา แต่ก่อนที่เราจะโชว์ขึ้นมาได้เราต้องสร้างตัว figure ขึ้นมาเสียก่อน เหมือนกับการสร้างหน้าต่างโปรแกรมขึ้นมาเพื่อที่จะให้เอารูปที่จะโชว์ไปแปะ\n",
        "plt.imshow(img)\n"
      ],
      "execution_count": 0,
      "outputs": []
    },
    {
      "cell_type": "code",
      "metadata": {
        "id": "SVBS0H9drDX1",
        "colab_type": "code",
        "colab": {}
      },
      "source": [
        "print(len(y_pred))"
      ],
      "execution_count": 0,
      "outputs": []
    },
    {
      "cell_type": "code",
      "metadata": {
        "id": "RKU72PeWsT_p",
        "colab_type": "code",
        "colab": {}
      },
      "source": [
        "print(y_test)\n"
      ],
      "execution_count": 0,
      "outputs": []
    },
    {
      "cell_type": "code",
      "metadata": {
        "id": "JIteuZWXuIq8",
        "colab_type": "code",
        "colab": {}
      },
      "source": [
        "c = 0\n",
        "y_test2 = y_test\n",
        "for i in y_test :\n",
        "  if(i[0] > 0.5 and i[1] < 0.5):\n",
        "    #print('health_train')\n",
        "    y_test2[c] = [1,0]\n",
        "  else:\n",
        "    #print('not_health_train')\n",
        "    y_test2[c] = [0,1]\n",
        "  c +=1\n",
        "print(c)\n",
        "print(y_test2)\n",
        "\n"
      ],
      "execution_count": 0,
      "outputs": []
    },
    {
      "cell_type": "code",
      "metadata": {
        "id": "7lfmXkcMuItQ",
        "colab_type": "code",
        "colab": {}
      },
      "source": [
        "checkTrue = 0\n",
        "checkFalse = 0\n",
        "c = 0\n",
        "for i in y_predCSV:\n",
        "  if(y_predCSV[c][0] == y_test[c][0] and y_predCSV[c][1] == y_test[c][1] ):\n",
        "    checkTrue +=1\n",
        "  else:\n",
        "    checkFalse +=1\n",
        "print(checkTrue / len(y_pred))\n",
        "print(checkFalse / len(y_pred))"
      ],
      "execution_count": 0,
      "outputs": []
    },
    {
      "cell_type": "code",
      "metadata": {
        "id": "umBDE63OqzBQ",
        "colab_type": "code",
        "colab": {}
      },
      "source": [
        "from keras.models import load_model\n",
        "from keras import optimizers\n",
        "modeltest = load_model('/content/drive/My Drive/dataset/dataModel/FirstModel.h5')\n",
        "optimizer = optimizers.adam(lr=0.00001)\n",
        "modeltest.compile(loss='binary_crossentropy', optimizer=optimizer,metrics=[\"accuracy\"])"
      ],
      "execution_count": 0,
      "outputs": []
    },
    {
      "cell_type": "code",
      "metadata": {
        "id": "Oc3zBBHfC3iw",
        "colab_type": "code",
        "outputId": "d13e1ebd-816e-4516-86f4-e041001d556b",
        "colab": {
          "base_uri": "https://localhost:8080/",
          "height": 67
        }
      },
      "source": [
        "#main project\n",
        "\n",
        "test_part = image_paths[900:1200]\n",
        "print(len(test_part))\n",
        "test_data = data[900:1200]\n",
        "print(len(test_data))\n",
        "test_labels = labels[900:1200]\n",
        "print(len(test_labels))"
      ],
      "execution_count": 0,
      "outputs": [
        {
          "output_type": "stream",
          "text": [
            "300\n",
            "300\n",
            "300\n"
          ],
          "name": "stdout"
        }
      ]
    },
    {
      "cell_type": "code",
      "metadata": {
        "id": "DVjjSbd-tHAY",
        "colab_type": "code",
        "colab": {}
      },
      "source": [
        "print(test_labels)"
      ],
      "execution_count": 0,
      "outputs": []
    },
    {
      "cell_type": "code",
      "metadata": {
        "id": "FDshVHG7zuUj",
        "colab_type": "code",
        "outputId": "29800c47-c04b-4e5d-c7d4-c3ad2fd38c79",
        "colab": {
          "base_uri": "https://localhost:8080/",
          "height": 34
        }
      },
      "source": [
        "#test_data = np.array(test_data)\n",
        "test_y_pred = modeltest.predict(test_data)\n",
        "target_names = ['health_train','not_health_train']\n",
        "from sklearn.metrics import accuracy_score, classification_report\n",
        "test_y_pred = np.array(test_y_pred)\n",
        "#test_labels = np.array(test_labels)\n",
        "print(accuracy_score(test_labels.argmax(axis=1), test_y_pred.argmax(axis=1)))\n"
      ],
      "execution_count": 0,
      "outputs": [
        {
          "output_type": "stream",
          "text": [
            "0.9033333333333333\n"
          ],
          "name": "stdout"
        }
      ]
    },
    {
      "cell_type": "code",
      "metadata": {
        "id": "_uoAY4VqDl3V",
        "colab_type": "code",
        "colab": {}
      },
      "source": [
        "# 0 = health_train\n",
        "# 1 = not_health_train\n",
        "inputData = test_labels.argmax(axis=1)\n",
        "outPutData = test_y_pred.argmax(axis=1)\n",
        "print(test_y_pred.argmax(axis=1))\n",
        "print(test_labels.argmax(axis=1))\n"
      ],
      "execution_count": 0,
      "outputs": []
    },
    {
      "cell_type": "code",
      "metadata": {
        "id": "i7jb6QGjyabv",
        "colab_type": "code",
        "colab": {}
      },
      "source": [
        ""
      ],
      "execution_count": 0,
      "outputs": []
    },
    {
      "cell_type": "code",
      "metadata": {
        "id": "_h22_J9EyTBw",
        "colab_type": "code",
        "outputId": "145122e8-5256-4a06-f4b4-438f004ba6b8",
        "colab": {
          "base_uri": "https://localhost:8080/",
          "height": 202
        }
      },
      "source": [
        "import sklearn.metrics as metrics\n",
        "matrix = metrics.confusion_matrix(test_labels.argmax(axis=1), test_y_pred.argmax(axis=1))\n",
        "print(classification_report(test_labels.argmax(axis=1), test_y_pred.argmax(axis=1), target_names=target_names))\n",
        "print(matrix)"
      ],
      "execution_count": 0,
      "outputs": [
        {
          "output_type": "stream",
          "text": [
            "                  precision    recall  f1-score   support\n",
            "\n",
            "    health_train       0.90      0.91      0.91       155\n",
            "not_health_train       0.90      0.90      0.90       145\n",
            "\n",
            "        accuracy                           0.90       300\n",
            "       macro avg       0.90      0.90      0.90       300\n",
            "    weighted avg       0.90      0.90      0.90       300\n",
            "\n",
            "[[141  14]\n",
            " [ 15 130]]\n"
          ],
          "name": "stdout"
        }
      ]
    },
    {
      "cell_type": "code",
      "metadata": {
        "id": "KtcSVHWXwaZx",
        "colab_type": "code",
        "colab": {}
      },
      "source": [
        "print(test_part[10].split('-')[1])"
      ],
      "execution_count": 0,
      "outputs": []
    },
    {
      "cell_type": "code",
      "metadata": {
        "id": "I0POxfyLGUve",
        "colab_type": "code",
        "colab": {}
      },
      "source": [
        "c = 0\n",
        "checkH = 0\n",
        "checkNH = 0\n",
        "for imgs in test_part : \n",
        "  name = imgs.split('-')[1]\n",
        "  image = cv2.imread(imgs)\n",
        "  cv2.imwrite('/content/drive/My Drive/dataset/outputM1/all/{}_{}.png'.format(c,name),image)\n",
        "  if(outPutData[c] == 1):\n",
        "    \n",
        "    if(imgs.split('-')[1] != 'cbsd'):\n",
        "      name = \"not_cbsd\"\n",
        "    image = cv2.imread(imgs)\n",
        "    cv2.imwrite('/content/drive/My Drive/dataset/outputM1/not_health/{}_{} .png'.format(checkNH,name),image)\n",
        "    checkNH += 1\n",
        "  else:\n",
        "    image = cv2.imread(imgs)\n",
        "    cv2.imwrite('/content/drive/My Drive/dataset/outputM1/health/{}_{}.png'.format(checkH,name),image)\n",
        "    checkH += 1\n",
        "  c += 1\n",
        "  \n"
      ],
      "execution_count": 0,
      "outputs": []
    },
    {
      "cell_type": "code",
      "metadata": {
        "id": "JI69Y-LBC8KH",
        "colab_type": "code",
        "colab": {}
      },
      "source": [
        "print(checkH)\n",
        "print(checkNH)"
      ],
      "execution_count": 0,
      "outputs": []
    },
    {
      "cell_type": "code",
      "metadata": {
        "id": "x35KYtvRjMEW",
        "colab_type": "code",
        "outputId": "a0c93871-1c4f-486a-caf5-98df5e9d0270",
        "colab": {
          "base_uri": "https://localhost:8080/",
          "height": 295
        }
      },
      "source": [
        "plt.plot(mhis.history['loss'])\n",
        "plt.plot(mhis.history['val_loss'])\n",
        "plt.title('Model loss')\n",
        "plt.ylabel('Loss')\n",
        "plt.xlabel('Epoch')\n",
        "plt.legend(['Train', 'Val'], loc='upper right')\n",
        "plt.ylim(top=1.2, bottom=0)\n",
        "plt.show()"
      ],
      "execution_count": 0,
      "outputs": [
        {
          "output_type": "display_data",
          "data": {
            "image/png": "[encoded data removed]",
            "text/plain": [
              "<Figure size 432x288 with 1 Axes>"
            ]
          },
          "metadata": {
            "tags": []
          }
        }
      ]
    },
    {
      "cell_type": "code",
      "metadata": {
        "id": "I8DekuEwoDfD",
        "colab_type": "code",
        "outputId": "ca3a7985-c7ba-43c5-8a12-2c3303270e34",
        "colab": {
          "base_uri": "https://localhost:8080/",
          "height": 295
        }
      },
      "source": [
        "plt.plot(mhis.history['acc'])\n",
        "plt.plot(mhis.history['val_acc'])\n",
        "plt.title('Model accuracy')\n",
        "plt.ylabel('Accuracy')\n",
        "plt.xlabel('Epoch')\n",
        "plt.legend(['Train', 'Val'], loc='lower right')\n",
        "plt.show()"
      ],
      "execution_count": 0,
      "outputs": [
        {
          "output_type": "display_data",
          "data": {
            "image/png": "[encoded data removed]",
            "text/plain": [
              "<Figure size 432x288 with 1 Axes>"
            ]
          },
          "metadata": {
            "tags": []
          }
        }
      ]
    },
    {
      "cell_type": "code",
      "metadata": {
        "id": "OE2E1x16Vg2w",
        "colab_type": "code",
        "colab": {}
      },
      "source": [
        "model_2.save('FirstModel.h5')\n",
        "from google.colab import files\n",
        "files.download(\"FirstModel.h5\")"
      ],
      "execution_count": 0,
      "outputs": []
    },
    {
      "cell_type": "code",
      "metadata": {
        "id": "jF8GQqLEVeH4",
        "colab_type": "code",
        "colab": {}
      },
      "source": [
        "!dir"
      ],
      "execution_count": 0,
      "outputs": []
    },
    {
      "cell_type": "code",
      "metadata": {
        "id": "olnUD61LVeKv",
        "colab_type": "code",
        "colab": {}
      },
      "source": [
        ""
      ],
      "execution_count": 0,
      "outputs": []
    }
  ]
}